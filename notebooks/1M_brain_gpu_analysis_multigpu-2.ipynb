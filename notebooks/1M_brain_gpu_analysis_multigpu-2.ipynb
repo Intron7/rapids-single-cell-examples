{
 "cells": [
  {
   "cell_type": "markdown",
   "metadata": {},
   "source": [
    "# RAPIDS & Scanpy Single-Cell RNA-seq Multi-GPU Workflow on 1 Million Cells"
   ]
  },
  {
   "cell_type": "markdown",
   "metadata": {},
   "source": [
    "Copyright (c) 2020, NVIDIA CORPORATION.\n",
    "\n",
    "Licensed under the Apache License, Version 2.0 (the \"License\") you may not use this file except in compliance with the License. You may obtain a copy of the License at\n",
    "\n",
    "    http://www.apache.org/licenses/LICENSE-2.0 \n",
    "\n",
    "Unless required by applicable law or agreed to in writing, software distributed under the License is distributed on an \"AS IS\" BASIS, WITHOUT WARRANTIES OR CONDITIONS OF ANY KIND, either express or implied. See the License for the specific language governing permissions and limitations under the License."
   ]
  },
  {
   "cell_type": "markdown",
   "metadata": {},
   "source": [
    "This notebook demonstrates a single-cell RNA analysis workflow that begins with preprocessing a count matrix of size `(n_gene, n_cell)` and results in a visualization of the clustered cells for further analysis."
   ]
  },
  {
   "cell_type": "markdown",
   "metadata": {},
   "source": [
    "For demonstration purposes, we use a dataset of 1M brain cells with Unified Virtual Memory to oversubscribe GPU memory. We then use dask to scale PCA, K-means clustering, and UMAP across multiple GPUs.\n",
    "\n",
    "See the README for instructions to download this dataset."
   ]
  },
  {
   "cell_type": "markdown",
   "metadata": {},
   "source": [
    "## Import requirements"
   ]
  },
  {
   "cell_type": "code",
   "execution_count": 1,
   "metadata": {},
   "outputs": [
    {
     "data": {
      "text/html": [
       "\n",
       "    <div class=\"bk-root\">\n",
       "        <a href=\"https://bokeh.org\" target=\"_blank\" class=\"bk-logo bk-logo-small bk-logo-notebook\"></a>\n",
       "        <span id=\"1001\">Loading BokehJS ...</span>\n",
       "    </div>"
      ]
     },
     "metadata": {},
     "output_type": "display_data"
    },
    {
     "data": {
      "application/javascript": [
       "\n",
       "(function(root) {\n",
       "  function now() {\n",
       "    return new Date();\n",
       "  }\n",
       "\n",
       "  var force = true;\n",
       "\n",
       "  if (typeof root._bokeh_onload_callbacks === \"undefined\" || force === true) {\n",
       "    root._bokeh_onload_callbacks = [];\n",
       "    root._bokeh_is_loading = undefined;\n",
       "  }\n",
       "\n",
       "  var JS_MIME_TYPE = 'application/javascript';\n",
       "  var HTML_MIME_TYPE = 'text/html';\n",
       "  var EXEC_MIME_TYPE = 'application/vnd.bokehjs_exec.v0+json';\n",
       "  var CLASS_NAME = 'output_bokeh rendered_html';\n",
       "\n",
       "  /**\n",
       "   * Render data to the DOM node\n",
       "   */\n",
       "  function render(props, node) {\n",
       "    var script = document.createElement(\"script\");\n",
       "    node.appendChild(script);\n",
       "  }\n",
       "\n",
       "  /**\n",
       "   * Handle when an output is cleared or removed\n",
       "   */\n",
       "  function handleClearOutput(event, handle) {\n",
       "    var cell = handle.cell;\n",
       "\n",
       "    var id = cell.output_area._bokeh_element_id;\n",
       "    var server_id = cell.output_area._bokeh_server_id;\n",
       "    // Clean up Bokeh references\n",
       "    if (id != null && id in Bokeh.index) {\n",
       "      Bokeh.index[id].model.document.clear();\n",
       "      delete Bokeh.index[id];\n",
       "    }\n",
       "\n",
       "    if (server_id !== undefined) {\n",
       "      // Clean up Bokeh references\n",
       "      var cmd = \"from bokeh.io.state import curstate; print(curstate().uuid_to_server['\" + server_id + \"'].get_sessions()[0].document.roots[0]._id)\";\n",
       "      cell.notebook.kernel.execute(cmd, {\n",
       "        iopub: {\n",
       "          output: function(msg) {\n",
       "            var id = msg.content.text.trim();\n",
       "            if (id in Bokeh.index) {\n",
       "              Bokeh.index[id].model.document.clear();\n",
       "              delete Bokeh.index[id];\n",
       "            }\n",
       "          }\n",
       "        }\n",
       "      });\n",
       "      // Destroy server and session\n",
       "      var cmd = \"import bokeh.io.notebook as ion; ion.destroy_server('\" + server_id + \"')\";\n",
       "      cell.notebook.kernel.execute(cmd);\n",
       "    }\n",
       "  }\n",
       "\n",
       "  /**\n",
       "   * Handle when a new output is added\n",
       "   */\n",
       "  function handleAddOutput(event, handle) {\n",
       "    var output_area = handle.output_area;\n",
       "    var output = handle.output;\n",
       "\n",
       "    // limit handleAddOutput to display_data with EXEC_MIME_TYPE content only\n",
       "    if ((output.output_type != \"display_data\") || (!output.data.hasOwnProperty(EXEC_MIME_TYPE))) {\n",
       "      return\n",
       "    }\n",
       "\n",
       "    var toinsert = output_area.element.find(\".\" + CLASS_NAME.split(' ')[0]);\n",
       "\n",
       "    if (output.metadata[EXEC_MIME_TYPE][\"id\"] !== undefined) {\n",
       "      toinsert[toinsert.length - 1].firstChild.textContent = output.data[JS_MIME_TYPE];\n",
       "      // store reference to embed id on output_area\n",
       "      output_area._bokeh_element_id = output.metadata[EXEC_MIME_TYPE][\"id\"];\n",
       "    }\n",
       "    if (output.metadata[EXEC_MIME_TYPE][\"server_id\"] !== undefined) {\n",
       "      var bk_div = document.createElement(\"div\");\n",
       "      bk_div.innerHTML = output.data[HTML_MIME_TYPE];\n",
       "      var script_attrs = bk_div.children[0].attributes;\n",
       "      for (var i = 0; i < script_attrs.length; i++) {\n",
       "        toinsert[toinsert.length - 1].firstChild.setAttribute(script_attrs[i].name, script_attrs[i].value);\n",
       "        toinsert[toinsert.length - 1].firstChild.textContent = bk_div.children[0].textContent\n",
       "      }\n",
       "      // store reference to server id on output_area\n",
       "      output_area._bokeh_server_id = output.metadata[EXEC_MIME_TYPE][\"server_id\"];\n",
       "    }\n",
       "  }\n",
       "\n",
       "  function register_renderer(events, OutputArea) {\n",
       "\n",
       "    function append_mime(data, metadata, element) {\n",
       "      // create a DOM node to render to\n",
       "      var toinsert = this.create_output_subarea(\n",
       "        metadata,\n",
       "        CLASS_NAME,\n",
       "        EXEC_MIME_TYPE\n",
       "      );\n",
       "      this.keyboard_manager.register_events(toinsert);\n",
       "      // Render to node\n",
       "      var props = {data: data, metadata: metadata[EXEC_MIME_TYPE]};\n",
       "      render(props, toinsert[toinsert.length - 1]);\n",
       "      element.append(toinsert);\n",
       "      return toinsert\n",
       "    }\n",
       "\n",
       "    /* Handle when an output is cleared or removed */\n",
       "    events.on('clear_output.CodeCell', handleClearOutput);\n",
       "    events.on('delete.Cell', handleClearOutput);\n",
       "\n",
       "    /* Handle when a new output is added */\n",
       "    events.on('output_added.OutputArea', handleAddOutput);\n",
       "\n",
       "    /**\n",
       "     * Register the mime type and append_mime function with output_area\n",
       "     */\n",
       "    OutputArea.prototype.register_mime_type(EXEC_MIME_TYPE, append_mime, {\n",
       "      /* Is output safe? */\n",
       "      safe: true,\n",
       "      /* Index of renderer in `output_area.display_order` */\n",
       "      index: 0\n",
       "    });\n",
       "  }\n",
       "\n",
       "  // register the mime type if in Jupyter Notebook environment and previously unregistered\n",
       "  if (root.Jupyter !== undefined) {\n",
       "    var events = require('base/js/events');\n",
       "    var OutputArea = require('notebook/js/outputarea').OutputArea;\n",
       "\n",
       "    if (OutputArea.prototype.mime_types().indexOf(EXEC_MIME_TYPE) == -1) {\n",
       "      register_renderer(events, OutputArea);\n",
       "    }\n",
       "  }\n",
       "\n",
       "  \n",
       "  if (typeof (root._bokeh_timeout) === \"undefined\" || force === true) {\n",
       "    root._bokeh_timeout = Date.now() + 5000;\n",
       "    root._bokeh_failed_load = false;\n",
       "  }\n",
       "\n",
       "  var NB_LOAD_WARNING = {'data': {'text/html':\n",
       "     \"<div style='background-color: #fdd'>\\n\"+\n",
       "     \"<p>\\n\"+\n",
       "     \"BokehJS does not appear to have successfully loaded. If loading BokehJS from CDN, this \\n\"+\n",
       "     \"may be due to a slow or bad network connection. Possible fixes:\\n\"+\n",
       "     \"</p>\\n\"+\n",
       "     \"<ul>\\n\"+\n",
       "     \"<li>re-rerun `output_notebook()` to attempt to load from CDN again, or</li>\\n\"+\n",
       "     \"<li>use INLINE resources instead, as so:</li>\\n\"+\n",
       "     \"</ul>\\n\"+\n",
       "     \"<code>\\n\"+\n",
       "     \"from bokeh.resources import INLINE\\n\"+\n",
       "     \"output_notebook(resources=INLINE)\\n\"+\n",
       "     \"</code>\\n\"+\n",
       "     \"</div>\"}};\n",
       "\n",
       "  function display_loaded() {\n",
       "    var el = document.getElementById(\"1001\");\n",
       "    if (el != null) {\n",
       "      el.textContent = \"BokehJS is loading...\";\n",
       "    }\n",
       "    if (root.Bokeh !== undefined) {\n",
       "      if (el != null) {\n",
       "        el.textContent = \"BokehJS \" + root.Bokeh.version + \" successfully loaded.\";\n",
       "      }\n",
       "    } else if (Date.now() < root._bokeh_timeout) {\n",
       "      setTimeout(display_loaded, 100)\n",
       "    }\n",
       "  }\n",
       "\n",
       "\n",
       "  function run_callbacks() {\n",
       "    try {\n",
       "      root._bokeh_onload_callbacks.forEach(function(callback) {\n",
       "        if (callback != null)\n",
       "          callback();\n",
       "      });\n",
       "    } finally {\n",
       "      delete root._bokeh_onload_callbacks\n",
       "    }\n",
       "    console.debug(\"Bokeh: all callbacks have finished\");\n",
       "  }\n",
       "\n",
       "  function load_libs(css_urls, js_urls, callback) {\n",
       "    if (css_urls == null) css_urls = [];\n",
       "    if (js_urls == null) js_urls = [];\n",
       "\n",
       "    root._bokeh_onload_callbacks.push(callback);\n",
       "    if (root._bokeh_is_loading > 0) {\n",
       "      console.debug(\"Bokeh: BokehJS is being loaded, scheduling callback at\", now());\n",
       "      return null;\n",
       "    }\n",
       "    if (js_urls == null || js_urls.length === 0) {\n",
       "      run_callbacks();\n",
       "      return null;\n",
       "    }\n",
       "    console.debug(\"Bokeh: BokehJS not loaded, scheduling load and callback at\", now());\n",
       "    root._bokeh_is_loading = css_urls.length + js_urls.length;\n",
       "\n",
       "    function on_load() {\n",
       "      root._bokeh_is_loading--;\n",
       "      if (root._bokeh_is_loading === 0) {\n",
       "        console.debug(\"Bokeh: all BokehJS libraries/stylesheets loaded\");\n",
       "        run_callbacks()\n",
       "      }\n",
       "    }\n",
       "\n",
       "    function on_error() {\n",
       "      console.error(\"failed to load \" + url);\n",
       "    }\n",
       "\n",
       "    for (var i = 0; i < css_urls.length; i++) {\n",
       "      var url = css_urls[i];\n",
       "      const element = document.createElement(\"link\");\n",
       "      element.onload = on_load;\n",
       "      element.onerror = on_error;\n",
       "      element.rel = \"stylesheet\";\n",
       "      element.type = \"text/css\";\n",
       "      element.href = url;\n",
       "      console.debug(\"Bokeh: injecting link tag for BokehJS stylesheet: \", url);\n",
       "      document.body.appendChild(element);\n",
       "    }\n",
       "\n",
       "    const hashes = {\"https://cdn.bokeh.org/bokeh/release/bokeh-2.2.3.min.js\": \"T2yuo9Oe71Cz/I4X9Ac5+gpEa5a8PpJCDlqKYO0CfAuEszu1JrXLl8YugMqYe3sM\", \"https://cdn.bokeh.org/bokeh/release/bokeh-widgets-2.2.3.min.js\": \"98GDGJ0kOMCUMUePhksaQ/GYgB3+NH9h996V88sh3aOiUNX3N+fLXAtry6xctSZ6\", \"https://cdn.bokeh.org/bokeh/release/bokeh-tables-2.2.3.min.js\": \"89bArO+nlbP3sgakeHjCo1JYxYR5wufVgA3IbUvDY+K7w4zyxJqssu7wVnfeKCq8\"};\n",
       "\n",
       "    for (var i = 0; i < js_urls.length; i++) {\n",
       "      var url = js_urls[i];\n",
       "      var element = document.createElement('script');\n",
       "      element.onload = on_load;\n",
       "      element.onerror = on_error;\n",
       "      element.async = false;\n",
       "      element.src = url;\n",
       "      if (url in hashes) {\n",
       "        element.crossOrigin = \"anonymous\";\n",
       "        element.integrity = \"sha384-\" + hashes[url];\n",
       "      }\n",
       "      console.debug(\"Bokeh: injecting script tag for BokehJS library: \", url);\n",
       "      document.head.appendChild(element);\n",
       "    }\n",
       "  };\n",
       "\n",
       "  function inject_raw_css(css) {\n",
       "    const element = document.createElement(\"style\");\n",
       "    element.appendChild(document.createTextNode(css));\n",
       "    document.body.appendChild(element);\n",
       "  }\n",
       "\n",
       "  \n",
       "  var js_urls = [\"https://cdn.bokeh.org/bokeh/release/bokeh-2.2.3.min.js\", \"https://cdn.bokeh.org/bokeh/release/bokeh-widgets-2.2.3.min.js\", \"https://cdn.bokeh.org/bokeh/release/bokeh-tables-2.2.3.min.js\"];\n",
       "  var css_urls = [];\n",
       "  \n",
       "\n",
       "  var inline_js = [\n",
       "    function(Bokeh) {\n",
       "      Bokeh.set_log_level(\"info\");\n",
       "    },\n",
       "    function(Bokeh) {\n",
       "    \n",
       "    \n",
       "    }\n",
       "  ];\n",
       "\n",
       "  function run_inline_js() {\n",
       "    \n",
       "    if (root.Bokeh !== undefined || force === true) {\n",
       "      \n",
       "    for (var i = 0; i < inline_js.length; i++) {\n",
       "      inline_js[i].call(root, root.Bokeh);\n",
       "    }\n",
       "    if (force === true) {\n",
       "        display_loaded();\n",
       "      }} else if (Date.now() < root._bokeh_timeout) {\n",
       "      setTimeout(run_inline_js, 100);\n",
       "    } else if (!root._bokeh_failed_load) {\n",
       "      console.log(\"Bokeh: BokehJS failed to load within specified timeout.\");\n",
       "      root._bokeh_failed_load = true;\n",
       "    } else if (force !== true) {\n",
       "      var cell = $(document.getElementById(\"1001\")).parents('.cell').data().cell;\n",
       "      cell.output_area.append_execute_result(NB_LOAD_WARNING)\n",
       "    }\n",
       "\n",
       "  }\n",
       "\n",
       "  if (root._bokeh_is_loading === 0) {\n",
       "    console.debug(\"Bokeh: BokehJS loaded, going straight to plotting\");\n",
       "    run_inline_js();\n",
       "  } else {\n",
       "    load_libs(css_urls, js_urls, function() {\n",
       "      console.debug(\"Bokeh: BokehJS plotting callback run at\", now());\n",
       "      run_inline_js();\n",
       "    });\n",
       "  }\n",
       "}(window));"
      ],
      "application/vnd.bokehjs_load.v0+json": "\n(function(root) {\n  function now() {\n    return new Date();\n  }\n\n  var force = true;\n\n  if (typeof root._bokeh_onload_callbacks === \"undefined\" || force === true) {\n    root._bokeh_onload_callbacks = [];\n    root._bokeh_is_loading = undefined;\n  }\n\n  \n\n  \n  if (typeof (root._bokeh_timeout) === \"undefined\" || force === true) {\n    root._bokeh_timeout = Date.now() + 5000;\n    root._bokeh_failed_load = false;\n  }\n\n  var NB_LOAD_WARNING = {'data': {'text/html':\n     \"<div style='background-color: #fdd'>\\n\"+\n     \"<p>\\n\"+\n     \"BokehJS does not appear to have successfully loaded. If loading BokehJS from CDN, this \\n\"+\n     \"may be due to a slow or bad network connection. Possible fixes:\\n\"+\n     \"</p>\\n\"+\n     \"<ul>\\n\"+\n     \"<li>re-rerun `output_notebook()` to attempt to load from CDN again, or</li>\\n\"+\n     \"<li>use INLINE resources instead, as so:</li>\\n\"+\n     \"</ul>\\n\"+\n     \"<code>\\n\"+\n     \"from bokeh.resources import INLINE\\n\"+\n     \"output_notebook(resources=INLINE)\\n\"+\n     \"</code>\\n\"+\n     \"</div>\"}};\n\n  function display_loaded() {\n    var el = document.getElementById(\"1001\");\n    if (el != null) {\n      el.textContent = \"BokehJS is loading...\";\n    }\n    if (root.Bokeh !== undefined) {\n      if (el != null) {\n        el.textContent = \"BokehJS \" + root.Bokeh.version + \" successfully loaded.\";\n      }\n    } else if (Date.now() < root._bokeh_timeout) {\n      setTimeout(display_loaded, 100)\n    }\n  }\n\n\n  function run_callbacks() {\n    try {\n      root._bokeh_onload_callbacks.forEach(function(callback) {\n        if (callback != null)\n          callback();\n      });\n    } finally {\n      delete root._bokeh_onload_callbacks\n    }\n    console.debug(\"Bokeh: all callbacks have finished\");\n  }\n\n  function load_libs(css_urls, js_urls, callback) {\n    if (css_urls == null) css_urls = [];\n    if (js_urls == null) js_urls = [];\n\n    root._bokeh_onload_callbacks.push(callback);\n    if (root._bokeh_is_loading > 0) {\n      console.debug(\"Bokeh: BokehJS is being loaded, scheduling callback at\", now());\n      return null;\n    }\n    if (js_urls == null || js_urls.length === 0) {\n      run_callbacks();\n      return null;\n    }\n    console.debug(\"Bokeh: BokehJS not loaded, scheduling load and callback at\", now());\n    root._bokeh_is_loading = css_urls.length + js_urls.length;\n\n    function on_load() {\n      root._bokeh_is_loading--;\n      if (root._bokeh_is_loading === 0) {\n        console.debug(\"Bokeh: all BokehJS libraries/stylesheets loaded\");\n        run_callbacks()\n      }\n    }\n\n    function on_error() {\n      console.error(\"failed to load \" + url);\n    }\n\n    for (var i = 0; i < css_urls.length; i++) {\n      var url = css_urls[i];\n      const element = document.createElement(\"link\");\n      element.onload = on_load;\n      element.onerror = on_error;\n      element.rel = \"stylesheet\";\n      element.type = \"text/css\";\n      element.href = url;\n      console.debug(\"Bokeh: injecting link tag for BokehJS stylesheet: \", url);\n      document.body.appendChild(element);\n    }\n\n    const hashes = {\"https://cdn.bokeh.org/bokeh/release/bokeh-2.2.3.min.js\": \"T2yuo9Oe71Cz/I4X9Ac5+gpEa5a8PpJCDlqKYO0CfAuEszu1JrXLl8YugMqYe3sM\", \"https://cdn.bokeh.org/bokeh/release/bokeh-widgets-2.2.3.min.js\": \"98GDGJ0kOMCUMUePhksaQ/GYgB3+NH9h996V88sh3aOiUNX3N+fLXAtry6xctSZ6\", \"https://cdn.bokeh.org/bokeh/release/bokeh-tables-2.2.3.min.js\": \"89bArO+nlbP3sgakeHjCo1JYxYR5wufVgA3IbUvDY+K7w4zyxJqssu7wVnfeKCq8\"};\n\n    for (var i = 0; i < js_urls.length; i++) {\n      var url = js_urls[i];\n      var element = document.createElement('script');\n      element.onload = on_load;\n      element.onerror = on_error;\n      element.async = false;\n      element.src = url;\n      if (url in hashes) {\n        element.crossOrigin = \"anonymous\";\n        element.integrity = \"sha384-\" + hashes[url];\n      }\n      console.debug(\"Bokeh: injecting script tag for BokehJS library: \", url);\n      document.head.appendChild(element);\n    }\n  };\n\n  function inject_raw_css(css) {\n    const element = document.createElement(\"style\");\n    element.appendChild(document.createTextNode(css));\n    document.body.appendChild(element);\n  }\n\n  \n  var js_urls = [\"https://cdn.bokeh.org/bokeh/release/bokeh-2.2.3.min.js\", \"https://cdn.bokeh.org/bokeh/release/bokeh-widgets-2.2.3.min.js\", \"https://cdn.bokeh.org/bokeh/release/bokeh-tables-2.2.3.min.js\"];\n  var css_urls = [];\n  \n\n  var inline_js = [\n    function(Bokeh) {\n      Bokeh.set_log_level(\"info\");\n    },\n    function(Bokeh) {\n    \n    \n    }\n  ];\n\n  function run_inline_js() {\n    \n    if (root.Bokeh !== undefined || force === true) {\n      \n    for (var i = 0; i < inline_js.length; i++) {\n      inline_js[i].call(root, root.Bokeh);\n    }\n    if (force === true) {\n        display_loaded();\n      }} else if (Date.now() < root._bokeh_timeout) {\n      setTimeout(run_inline_js, 100);\n    } else if (!root._bokeh_failed_load) {\n      console.log(\"Bokeh: BokehJS failed to load within specified timeout.\");\n      root._bokeh_failed_load = true;\n    } else if (force !== true) {\n      var cell = $(document.getElementById(\"1001\")).parents('.cell').data().cell;\n      cell.output_area.append_execute_result(NB_LOAD_WARNING)\n    }\n\n  }\n\n  if (root._bokeh_is_loading === 0) {\n    console.debug(\"Bokeh: BokehJS loaded, going straight to plotting\");\n    run_inline_js();\n  } else {\n    load_libs(css_urls, js_urls, function() {\n      console.debug(\"Bokeh: BokehJS plotting callback run at\", now());\n      run_inline_js();\n    });\n  }\n}(window));"
     },
     "metadata": {},
     "output_type": "display_data"
    }
   ],
   "source": [
    "import time\n",
    "import pandas as pd\n",
    "import numpy as np\n",
    "import scanpy as sc\n",
    "import anndata\n",
    "\n",
    "import matplotlib.pyplot as plt\n",
    "import matplotlib.animation as animation\n",
    "\n",
    "import cupy as cp\n",
    "import cupyx as cpx\n",
    "import cupyx\n",
    "\n",
    "import cudf\n",
    "import math\n",
    "\n",
    "\n",
    "import h5py\n",
    "import scipy\n",
    "\n",
    "import dask\n",
    "import dask_cudf\n",
    "import rmm\n",
    "\n",
    "from numba import cuda\n",
    "from statsmodels import robust\n",
    "\n",
    "from dask_cuda import initialize, LocalCUDACluster\n",
    "from dask import delayed, dataframe\n",
    "from dask.dataframe.utils import make_meta\n",
    "from dask.distributed import Client, default_client\n",
    "from dask_cuda.local_cuda_cluster import cuda_visible_devices\n",
    "import dask.dataframe as dd\n",
    "\n",
    "from cuml.common.memory_utils import with_cupy_rmm\n",
    "from cuml.common import rmm_cupy_ary\n",
    "from cuml.manifold import TSNE, UMAP\n",
    "from cuml.linear_model import LinearRegression\n",
    "\n",
    "from cuml.dask.decomposition import PCA as cu_dask_PCA\n",
    "from cuml.dask.cluster import KMeans as cu_dask_KMeans\n",
    "from cuml.dask.manifold import UMAP as cu_dask_UMAP\n",
    "from cuml.dask.linear_model import LinearRegression as cu_dask_LinearRegression\n",
    "from cuml.dask.neighbors import NearestNeighbors as cu_dask_NearestNeighbors\n",
    "\n",
    "from cuml.dask.common.dask_arr_utils import to_dask_cudf, to_sparse_dask_array\n",
    "from cuml.dask.common.dask_df_utils import to_dask_cudf\n",
    "from cuml.dask.common.input_utils import to_dask_cupy\n",
    "from cuml.dask.common.part_utils import _extract_partitions\n",
    "\n",
    "from bokeh.io.export import export_png\n",
    "from bokeh.plotting import figure\n",
    "from bokeh.models.tickers import FixedTicker\n",
    "from bokeh.io import output_notebook, push_notebook, show\n",
    "\n",
    "import rapids_scanpy_funcs\n",
    "import utils\n",
    "\n",
    "import warnings\n",
    "warnings.filterwarnings('ignore', 'Expected ')\n",
    "warnings.simplefilter('ignore')\n",
    "\n",
    "output_notebook()\n",
    "\n",
    "COLORS = [\"#000000\", \"#FFFF00\", \"#1CE6FF\", \"#FF34FF\", \"#FF4A46\", \"#008941\",\n",
    "          \"#006FA6\", \"#A30059\", \"#FFDBE5\", \"#7A4900\", \"#0000A6\", \"#63FFAC\",\n",
    "          \"#B79762\", \"#004D43\", \"#8FB0FF\", \"#997D87\", \"#5A0007\", \"#809693\",\n",
    "          \"#FEFFE6\", \"#1B4400\", \"#4FC601\", \"#3B5DFF\", \"#4A3B53\", \"#FF2F80\",\n",
    "          \"#61615A\", \"#BA0900\", \"#6B7900\", \"#00C2A0\", \"#FFAA92\", \"#FF90C9\", \n",
    "          \"#B903AA\", \"#D16100\", \"#DDEFFF\", \"#000035\", \"#7B4F4B\", \"#A1C299\",\n",
    "          \"#300018\", \"#0AA6D8\", \"#013349\", \"#00846F\", \"#372101\", \"#FFB500\",\n",
    "          \"#C2FFED\", \"#A079BF\", \"#CC0744\", \"#C0B9B2\", \"#C2FF99\", \"#001E09\",\n",
    "          \"#00489C\", \"#6F0062\", \"#0CBD66\", \"#EEC3FF\", \"#456D75\", \"#B77B68\",\n",
    "          \"#7A87A1\", \"#788D66\", \"#885578\", \"#FAD09F\", \"#FF8A9A\", \"#D157A0\",\n",
    "          \"#BEC459\", \"#456648\", \"#0086ED\", \"#886F4C\", \"#34362D\", \"#B4A8BD\",\n",
    "          \"#00A6AA\", \"#452C2C\", \"#636375\", \"#A3C8C9\", \"#FF913F\", \"#938A81\",\n",
    "          \"#575329\", \"#00FECF\", \"#B05B6F\", \"#8CD0FF\", \"#3B9700\", \"#04F757\",\n",
    "          \"#C8A1A1\", \"#1E6E00\", \"#7900D7\", \"#A77500\", \"#6367A9\", \"#A05837\",\n",
    "          \"#6B002C\", \"#772600\", \"#D790FF\", \"#9B9700\", \"#549E79\", \"#FFF69F\",\n",
    "          \"#201625\", \"#72418F\", \"#BC23FF\", \"#99ADC0\", \"#3A2465\", \"#922329\",\n",
    "          \"#5B4534\", \"#FDE8DC\", \"#404E55\", \"#0089A3\", \"#CB7E98\", \"#A4E804\",\n",
    "          \"#324E72\", \"#6A3A4C\",]"
   ]
  },
  {
   "cell_type": "markdown",
   "metadata": {},
   "source": [
    "We use the RAPIDS memory manager to enable Unified Virtual Memory management, which allows us to oversubscribe the GPU memory"
   ]
  },
  {
   "cell_type": "code",
   "execution_count": 2,
   "metadata": {},
   "outputs": [
    {
     "data": {
      "text/html": [
       "<table style=\"border: 2px solid white;\">\n",
       "<tr>\n",
       "<td style=\"vertical-align: top; border: 0px solid white\">\n",
       "<h3 style=\"text-align: left;\">Client</h3>\n",
       "<ul style=\"text-align: left; list-style: none; margin: 0; padding: 0;\">\n",
       "  <li><b>Scheduler: </b>ucx://127.0.0.1:35870</li>\n",
       "  <li><b>Dashboard: </b><a href='http://127.0.0.1:9001/status' target='_blank'>http://127.0.0.1:9001/status</a></li>\n",
       "</ul>\n",
       "</td>\n",
       "<td style=\"vertical-align: top; border: 0px solid white\">\n",
       "<h3 style=\"text-align: left;\">Cluster</h3>\n",
       "<ul style=\"text-align: left; list-style:none; margin: 0; padding: 0;\">\n",
       "  <li><b>Workers: </b>1</li>\n",
       "  <li><b>Cores: </b>1</li>\n",
       "  <li><b>Memory: </b>67.09 GB</li>\n",
       "</ul>\n",
       "</td>\n",
       "</tr>\n",
       "</table>"
      ],
      "text/plain": [
       "<Client: 'ucx://127.0.0.1:35870' processes=1 threads=1, memory=67.09 GB>"
      ]
     },
     "execution_count": 2,
     "metadata": {},
     "output_type": "execute_result"
    }
   ],
   "source": [
    "cluster_start = time.time()\n",
    "\n",
    "enable_tcp_over_ucx = True\n",
    "enable_nvlink = True\n",
    "enable_infiniband = True\n",
    "CUDA_VISIBLE_DEVICES = cuda_visible_devices(0).split(',')\n",
    "CUDA_VISIBLE_DEVICES = [0]\n",
    "\n",
    "rmm.reinitialize(managed_memory=False)\n",
    "cp.cuda.set_allocator(rmm.rmm_cupy_allocator)\n",
    "\n",
    "initialize.initialize(create_cuda_context=True,\n",
    "                      enable_tcp_over_ucx=enable_tcp_over_ucx,\n",
    "                      enable_nvlink=enable_nvlink,\n",
    "                      enable_infiniband=enable_infiniband)\n",
    "\n",
    "cluster = LocalCUDACluster(protocol=\"ucx\",\n",
    "                           dashboard_address=':9001',\n",
    "                           CUDA_VISIBLE_DEVICES=CUDA_VISIBLE_DEVICES,\n",
    "                           enable_tcp_over_ucx=enable_tcp_over_ucx,\n",
    "                           enable_nvlink=enable_nvlink,\n",
    "                           enable_infiniband=enable_infiniband)\n",
    "\n",
    "client = Client(cluster)\n",
    "client.run(cp.cuda.set_allocator)\n",
    "n_workers = len(client.scheduler_info()['workers'].keys())\n",
    "client"
   ]
  },
  {
   "cell_type": "markdown",
   "metadata": {},
   "source": [
    "## Input data"
   ]
  },
  {
   "cell_type": "markdown",
   "metadata": {},
   "source": [
    "In the cell below, we provide the path to the sparse `.h5ad` file containing the count matrix to analyze. Please see the README for instructions on how to download the dataset we use here.\n",
    "\n",
    "To run this notebook using your own dataset, please see the README for instructions to convert your own count matrix into this format. Then, replace the path in the cell below with the path to your generated `.h5ad` file."
   ]
  },
  {
   "cell_type": "code",
   "execution_count": 3,
   "metadata": {},
   "outputs": [],
   "source": [
    "import os, wget\n",
    "\n",
    "# input_file = \"../data/krasnow_hlca_10x.sparse.h5ad\"\n",
    "input_file = \"/data/1M_brain_cells_10X.sparse.h5ad\"\n",
    "if not os.path.exists(input_file):\n",
    "    print('Downloading import file...')\n",
    "    os.makedirs('/data', exist_ok=True)\n",
    "    wget.download(\n",
    "        'https://rapids-single-cell-examples.s3.us-east-2.amazonaws.com/1M_brain_cells_10X.sparse.h5ad',\n",
    "        input_file)"
   ]
  },
  {
   "cell_type": "markdown",
   "metadata": {},
   "source": [
    "## Set parameters"
   ]
  },
  {
   "cell_type": "code",
   "execution_count": 4,
   "metadata": {},
   "outputs": [],
   "source": [
    "# marker genes\n",
    "MITO_GENE_PREFIX = \"mt-\"              # Prefix for mitochondrial genes to regress out\n",
    "markers = [\"Stmn2\", \"Hes1\", \"Olig1\"]  # Marker genes for visualization\n",
    "\n",
    "# filtering cells\n",
    "min_genes_per_cell = 200      # Filter out cells with fewer genes than this expressed \n",
    "max_genes_per_cell = 6000     # Filter out cells with more genes than this expressed \n",
    "min_cells=1                   # Genes containing a number of cells below this value will be filtered\n",
    "\n",
    "# filtering genesinitialize\n",
    "n_top_genes = 4000            # Number of highly variable genes to retain\n",
    "\n",
    "# PCA\n",
    "n_components = 50             # Number of principal components to compute\n",
    "pca_train_ratio = 0.35        # percentage of cells to use for PCA training\n",
    "n_pca_batches = 10\n",
    "\n",
    "# t-SNE\n",
    "tsne_n_pcs = 20               # Number of principal components to use for t-SNE\n",
    "\n",
    "# k-means\n",
    "k = 35                        # Number of clusters for k-means\n",
    "\n",
    "# KNN\n",
    "n_neighbors = 15              # Number of nearest neighbors for KNN graph\n",
    "knn_n_pcs = 50                # Number of principal components to use for finding nearest neighbors\n",
    "\n",
    "# UMAP\n",
    "umap_train_ratio = 0.35\n",
    "umap_min_dist = 0.3\n",
    "umap_spread = 1.0\n",
    "\n",
    "MAX_RECS = 200000            # To filter first x numbers of rows. Please change it to -1 for using all\n",
    "BATCHSIZE = 20000\n",
    "\n",
    "start_time = time.time()"
   ]
  },
  {
   "cell_type": "markdown",
   "metadata": {},
   "source": [
    "## Load and Prepare Data"
   ]
  },
  {
   "cell_type": "markdown",
   "metadata": {},
   "source": [
    "## We load the sparse count matrix from an `h5ad` file using Scanpy. The sparse count matrix will then be placed on the GPU. "
   ]
  },
  {
   "cell_type": "code",
   "execution_count": 5,
   "metadata": {},
   "outputs": [],
   "source": [
    "data_load_start = time.time()"
   ]
  },
  {
   "cell_type": "code",
   "execution_count": 6,
   "metadata": {},
   "outputs": [
    {
     "name": "stdout",
     "output_type": "stream",
     "text": [
      "CPU times: user 249 µs, sys: 91 µs, total: 340 µs\n",
      "Wall time: 310 µs\n"
     ]
    }
   ],
   "source": [
    "%%time\n",
    "\n",
    "@delayed\n",
    "def read_partition(sample_file, ds_data, ds_indices, ds_indptr, \n",
    "                   batch_start, rows, total_cols, gene_filter,\n",
    "                   min_genes_per_cell=200, max_genes_per_cell=6000, target_sum=1e4):\n",
    "    \"\"\"\n",
    "    Loads a single partition from HDF5 file.\n",
    "    \"\"\"\n",
    "    batch_end = batch_start + rows\n",
    "\n",
    "    with h5py.File(input_file, 'r') as h5f:\n",
    "        # Read all things row pointers for one worker\n",
    "        indptrs = h5f[ds_indptr]\n",
    "        start_ptr = indptrs[batch_start]\n",
    "        end_ptr = indptrs[batch_end]\n",
    "\n",
    "        # Read all things data for one worker\n",
    "        data = h5f[ds_data]\n",
    "        sub_data = cp.array(data[start_ptr:end_ptr])\n",
    "\n",
    "        # Read all things column pointers for one worker\n",
    "        indices = h5f[ds_indices]\n",
    "        sub_indices = cp.array(indices[start_ptr:end_ptr])\n",
    "\n",
    "        # recompute the row pointer for the partial dataset\n",
    "        sub_indptrs  = cp.array(indptrs[batch_start:(batch_end + 1)])\n",
    "        first_ptr = sub_indptrs[0]\n",
    "        sub_indptrs = sub_indptrs - first_ptr\n",
    "\n",
    "    partial_sparse_array = cp.sparse.csr_matrix((sub_data, sub_indices, sub_indptrs),\n",
    "                                                shape=(batch_end - batch_start, total_cols))\n",
    "\n",
    "    # TODO: Add barcode filtering here.\n",
    "    degrees = cp.diff(partial_sparse_array.indptr)\n",
    "    query = ((min_genes_per_cell <= degrees) & (degrees <= max_genes_per_cell))\n",
    "    partial_sparse_array = partial_sparse_array[query]\n",
    "    partial_sparse_array = rapids_scanpy_funcs.normalize_total(\n",
    "        partial_sparse_array, target_sum=target_sum)\n",
    "\n",
    "    if not gene_filter:\n",
    "        partial_sparse_sq_array = partial_sparse_array.power(2)\n",
    "        col1 = partial_sparse_array.sum(axis=0)\n",
    "        col2 = partial_sparse_sq_array.sum(axis=0)\n",
    "        ret_value = cp.hstack([col1, col2])\n",
    "        del partial_sparse_sq_array\n",
    "\n",
    "    else:\n",
    "        ret_value = partial_sparse_array[:, gene_filter]\n",
    "\n",
    "    del partial_sparse_array\n",
    "    return ret_value"
   ]
  },
  {
   "cell_type": "code",
   "execution_count": 7,
   "metadata": {},
   "outputs": [
    {
     "name": "stdout",
     "output_type": "stream",
     "text": [
      "Computing sum and creating gene count filter...\n",
      "CPU times: user 8.41 s, sys: 944 ms, total: 9.36 s\n",
      "Wall time: 45 s\n"
     ]
    }
   ],
   "source": [
    "%%time\n",
    "\n",
    "# Read along with filtering\n",
    "with h5py.File(input_file, 'r') as h5f:\n",
    "    indptr = h5f['/X/indptr']\n",
    "    data = h5f['/X/data']\n",
    "    orginal_genes = h5f['/var/_index']\n",
    "    \n",
    "    orginal_genes = cudf.Series(orginal_genes, dtype=cp.dtype('object'))\n",
    "\n",
    "    total_cols = orginal_genes.shape[0]\n",
    "    total_rows = indptr.shape[0] - 1\n",
    "\n",
    "if MAX_RECS == -1:\n",
    "    MAX_RECS = total_rows\n",
    "\n",
    "print('Computing sum and creating gene count filter...')\n",
    "dls_sum = []\n",
    "for batch_start in range(0, MAX_RECS, BATCHSIZE):\n",
    "    batch_size = BATCHSIZE if MAX_RECS > batch_start + BATCHSIZE else MAX_RECS - batch_start\n",
    "    dls_sum.append(\n",
    "        dask.array.from_delayed(\n",
    "            (read_partition)(input_file, \n",
    "                           '/X/data', '/X/indices', '/X/indptr', \n",
    "                           batch_start, batch_size, total_cols, None,\n",
    "                           min_genes_per_cell=min_genes_per_cell,\n",
    "                           max_genes_per_cell=max_genes_per_cell),\n",
    "            dtype=cp.float32,\n",
    "            shape=(batch_size, total_cols * 2)))\n",
    "\n",
    "# First half of this array is sum and rest is square of sum\n",
    "sum_gpu_arrays  = dask.array.concatenate(dls_sum).compute()\n",
    "\n",
    "# Split the sum and square\n",
    "sum_gpu_array = sum_gpu_arrays[:, 0:sum_gpu_arrays.shape[1]/2]\n",
    "sum_sq_gpu_array = sum_gpu_arrays[:,sum_gpu_arrays.shape[1]/2:]\n",
    "\n",
    "# Filter genes with at-least <<min_cells>> number of cells rec.\n",
    "sum_gpu_array = sum_gpu_array.sum(axis=0)\n",
    "min_cell_filter = (sum_gpu_array >= min_cells)\n",
    "\n",
    "sum_gpu_array = sum_gpu_array[min_cell_filter]\n",
    "sum_sq_gpu_array = sum_sq_gpu_array[:, min_cell_filter]\n",
    "sum_sq_gpu_array = sum_sq_gpu_array.sum(axis=0)"
   ]
  },
  {
   "cell_type": "code",
   "execution_count": 8,
   "metadata": {},
   "outputs": [
    {
     "name": "stdout",
     "output_type": "stream",
     "text": [
      "Loading data into dataframes...\n",
      "Concate sub-arrays...\n",
      "CPU times: user 2.61 s, sys: 57.7 ms, total: 2.67 s\n",
      "Wall time: 2.61 s\n"
     ]
    },
    {
     "data": {
      "text/html": [
       "<table>\n",
       "<tr>\n",
       "<td>\n",
       "<table>\n",
       "  <thead>\n",
       "    <tr><td> </td><th> Array </th><th> Chunk </th></tr>\n",
       "  </thead>\n",
       "  <tbody>\n",
       "    <tr><th> Bytes </th><td> 17.79 GB </td> <td> 1.78 GB </td></tr>\n",
       "    <tr><th> Shape </th><td> (200000, 22243) </td> <td> (20000, 22243) </td></tr>\n",
       "    <tr><th> Count </th><td> 10 Tasks </td><td> 10 Chunks </td></tr>\n",
       "    <tr><th> Type </th><td> float32 </td><td> numpy.ndarray </td></tr>\n",
       "  </tbody>\n",
       "</table>\n",
       "</td>\n",
       "<td>\n",
       "<svg width=\"89\" height=\"170\" style=\"stroke:rgb(0,0,0);stroke-width:1\" >\n",
       "\n",
       "  <!-- Horizontal lines -->\n",
       "  <line x1=\"0\" y1=\"0\" x2=\"39\" y2=\"0\" style=\"stroke-width:2\" />\n",
       "  <line x1=\"0\" y1=\"12\" x2=\"39\" y2=\"12\" />\n",
       "  <line x1=\"0\" y1=\"24\" x2=\"39\" y2=\"24\" />\n",
       "  <line x1=\"0\" y1=\"36\" x2=\"39\" y2=\"36\" />\n",
       "  <line x1=\"0\" y1=\"48\" x2=\"39\" y2=\"48\" />\n",
       "  <line x1=\"0\" y1=\"60\" x2=\"39\" y2=\"60\" />\n",
       "  <line x1=\"0\" y1=\"72\" x2=\"39\" y2=\"72\" />\n",
       "  <line x1=\"0\" y1=\"84\" x2=\"39\" y2=\"84\" />\n",
       "  <line x1=\"0\" y1=\"96\" x2=\"39\" y2=\"96\" />\n",
       "  <line x1=\"0\" y1=\"108\" x2=\"39\" y2=\"108\" />\n",
       "  <line x1=\"0\" y1=\"120\" x2=\"39\" y2=\"120\" style=\"stroke-width:2\" />\n",
       "\n",
       "  <!-- Vertical lines -->\n",
       "  <line x1=\"0\" y1=\"0\" x2=\"0\" y2=\"120\" style=\"stroke-width:2\" />\n",
       "  <line x1=\"39\" y1=\"0\" x2=\"39\" y2=\"120\" style=\"stroke-width:2\" />\n",
       "\n",
       "  <!-- Colored Rectangle -->\n",
       "  <polygon points=\"0.0,0.0 39.177302915494515,0.0 39.177302915494515,120.0 0.0,120.0\" style=\"fill:#ECB172A0;stroke-width:0\"/>\n",
       "\n",
       "  <!-- Text -->\n",
       "  <text x=\"19.588651\" y=\"140.000000\" font-size=\"1.0rem\" font-weight=\"100\" text-anchor=\"middle\" >22243</text>\n",
       "  <text x=\"59.177303\" y=\"60.000000\" font-size=\"1.0rem\" font-weight=\"100\" text-anchor=\"middle\" transform=\"rotate(-90,59.177303,60.000000)\">200000</text>\n",
       "</svg>\n",
       "</td>\n",
       "</tr>\n",
       "</table>"
      ],
      "text/plain": [
       "dask.array<concatenate, shape=(200000, 22243), dtype=float32, chunksize=(20000, 22243), chunktype=numpy.ndarray>"
      ]
     },
     "execution_count": 8,
     "metadata": {},
     "output_type": "execute_result"
    }
   ],
   "source": [
    "%%time\n",
    "\n",
    "print('Loading data into dataframes...')\n",
    "dls_data = []\n",
    "for batch_start in range(0, MAX_RECS, BATCHSIZE):\n",
    "    batch_size = BATCHSIZE if MAX_RECS > batch_start + BATCHSIZE else MAX_RECS - batch_start\n",
    "\n",
    "    dls_data.append(\n",
    "        dask.array.from_delayed(\n",
    "            (read_partition)(input_file,\n",
    "                           '/X/data', '/X/indices', '/X/indptr', \n",
    "                           batch_start, batch_size, total_cols, min_cell_filter.tolist(),\n",
    "                           min_genes_per_cell=min_genes_per_cell,\n",
    "                           max_genes_per_cell=max_genes_per_cell),\n",
    "            dtype=cp.float32,\n",
    "            shape=(batch_size, sum_sq_gpu_array.shape[0])))\n",
    "\n",
    "print('Concate sub-arrays...')\n",
    "sparse_gpu_array = dask.array.concatenate(dls_data)\n",
    "sparse_gpu_array = sparse_gpu_array.persist()\n",
    "sparse_gpu_array"
   ]
  },
  {
   "cell_type": "code",
   "execution_count": 9,
   "metadata": {},
   "outputs": [],
   "source": [
    "# genes = orginal_genes[min_cell_filter]\n",
    "# sum_sq_gpu_array/MAX_RECS, sum_gpu_array, genes"
   ]
  },
  {
   "cell_type": "markdown",
   "metadata": {},
   "source": [
    "For this example, we select the first 1 million cells in the dataset. We maintain the index of unique genes in our dataset:"
   ]
  },
  {
   "cell_type": "markdown",
   "metadata": {},
   "source": [
    "Verify the shape of the resulting sparse matrix:"
   ]
  },
  {
   "cell_type": "code",
   "execution_count": 10,
   "metadata": {},
   "outputs": [
    {
     "name": "stdout",
     "output_type": "stream",
     "text": [
      "CPU times: user 787 µs, sys: 137 µs, total: 924 µs\n",
      "Wall time: 932 µs\n"
     ]
    }
   ],
   "source": [
    "%%time\n",
    "sparse_gpu_array = dask.array.log1p(sparse_gpu_array)"
   ]
  },
  {
   "cell_type": "markdown",
   "metadata": {},
   "source": [
    "And the number of non-zero values in the matrix:"
   ]
  },
  {
   "cell_type": "code",
   "execution_count": 11,
   "metadata": {},
   "outputs": [
    {
     "name": "stdout",
     "output_type": "stream",
     "text": [
      "Total data load and format time: 47.778987407684326\n"
     ]
    }
   ],
   "source": [
    "print(\"Total data load and format time: %s\" % (time.time() - data_load_start))"
   ]
  },
  {
   "cell_type": "markdown",
   "metadata": {},
   "source": [
    "## Preprocessing"
   ]
  },
  {
   "cell_type": "code",
   "execution_count": 12,
   "metadata": {},
   "outputs": [],
   "source": [
    "preprocess_start = time.time()"
   ]
  },
  {
   "cell_type": "markdown",
   "metadata": {},
   "source": [
    "### Filter"
   ]
  },
  {
   "cell_type": "code",
   "execution_count": 13,
   "metadata": {},
   "outputs": [
    {
     "data": {
      "text/plain": [
       "(22243,)"
      ]
     },
     "execution_count": 13,
     "metadata": {},
     "output_type": "execute_result"
    }
   ],
   "source": [
    "# Filter out the genes that got removed from the original data\n",
    "genes = orginal_genes[min_cell_filter]\n",
    "genes.shape"
   ]
  },
  {
   "cell_type": "markdown",
   "metadata": {},
   "source": [
    "We filter the count matrix to remove cells with an extreme number of genes expressed."
   ]
  },
  {
   "cell_type": "code",
   "execution_count": 14,
   "metadata": {},
   "outputs": [
    {
     "name": "stdout",
     "output_type": "stream",
     "text": [
      "CPU times: user 4 µs, sys: 1 µs, total: 5 µs\n",
      "Wall time: 8.58 µs\n"
     ]
    }
   ],
   "source": [
    "%%time\n",
    "# FILTERING IS NOT DONE WHILE READING DATA\n",
    "# sparse_gpu_array = rapids_scanpy_funcs.filter_cells(sparse_gpu_array, \n",
    "#                                                     min_genes=min_genes_per_cell, \n",
    "#                                                     max_genes=max_genes_per_cell)"
   ]
  },
  {
   "cell_type": "markdown",
   "metadata": {},
   "source": [
    "Some genes will now have zero expression in all cells. We filter out such genes."
   ]
  },
  {
   "cell_type": "code",
   "execution_count": 15,
   "metadata": {},
   "outputs": [
    {
     "name": "stdout",
     "output_type": "stream",
     "text": [
      "CPU times: user 5 µs, sys: 0 ns, total: 5 µs\n",
      "Wall time: 8.34 µs\n"
     ]
    }
   ],
   "source": [
    "%%time\n",
    "# FILTERING IS NOT DONE WHILE READING DATA\n",
    "# sparse_gpu_array, genes = rapids_scanpy_funcs.filter_genes(sparse_gpu_array, genes.get(), min_cells=1)"
   ]
  },
  {
   "cell_type": "markdown",
   "metadata": {},
   "source": [
    "The size of our count matrix is now reduced."
   ]
  },
  {
   "cell_type": "code",
   "execution_count": 16,
   "metadata": {},
   "outputs": [
    {
     "name": "stdout",
     "output_type": "stream",
     "text": [
      "CPU times: user 5 µs, sys: 0 ns, total: 5 µs\n",
      "Wall time: 8.34 µs\n"
     ]
    }
   ],
   "source": [
    "%%time\n",
    "# sparse_gpu_array.shape"
   ]
  },
  {
   "cell_type": "markdown",
   "metadata": {},
   "source": [
    "### Normalize"
   ]
  },
  {
   "cell_type": "markdown",
   "metadata": {},
   "source": [
    "We normalize the count matrix so that the total counts in each cell sum to 1e4."
   ]
  },
  {
   "cell_type": "code",
   "execution_count": 17,
   "metadata": {},
   "outputs": [
    {
     "name": "stdout",
     "output_type": "stream",
     "text": [
      "CPU times: user 5 µs, sys: 0 ns, total: 5 µs\n",
      "Wall time: 8.82 µs\n"
     ]
    }
   ],
   "source": [
    "%%time\n",
    "# This is now done while loading data\n",
    "# sparse_gpu_array = rapids_scanpy_funcs.normalize_total(sparse_gpu_array, target_sum=1e4)\n",
    "# sparse_gpu_array = sparse_gpu_array.log1p()\n",
    "\n",
    "# sparse_gpu_array = sparse_gpu_array.astype(cp.float32)\n",
    "# sparse_gpu_array.shape"
   ]
  },
  {
   "cell_type": "markdown",
   "metadata": {},
   "source": [
    "Next, we log transform the count matrix."
   ]
  },
  {
   "cell_type": "code",
   "execution_count": 18,
   "metadata": {},
   "outputs": [
    {
     "name": "stdout",
     "output_type": "stream",
     "text": [
      "CPU times: user 1.91 s, sys: 275 ms, total: 2.18 s\n",
      "Wall time: 20.5 s\n"
     ]
    }
   ],
   "source": [
    "%%time\n",
    "\n",
    "marker_highly_variable = time.time()\n",
    "\n",
    "marker_genes_raw = {}\n",
    "genes1 = genes.reset_index(drop=True)\n",
    "i = 0\n",
    "for index in genes1[genes1.isin(markers)].index.to_arrow().to_pylist():\n",
    "    marker_genes_raw[markers[i]] = sparse_gpu_array[:, index].compute().toarray().ravel()\n",
    "    i += 1"
   ]
  },
  {
   "cell_type": "markdown",
   "metadata": {},
   "source": [
    "### Select Most Variable Genes"
   ]
  },
  {
   "cell_type": "markdown",
   "metadata": {},
   "source": [
    "We convert the count matrix to an annData object."
   ]
  },
  {
   "cell_type": "code",
   "execution_count": 19,
   "metadata": {},
   "outputs": [
    {
     "name": "stdout",
     "output_type": "stream",
     "text": [
      "CPU times: user 4 µs, sys: 0 ns, total: 4 µs\n",
      "Wall time: 8.34 µs\n"
     ]
    }
   ],
   "source": [
    "%%time\n",
    "# gpu_array = sparse_gpu_array.compute()\n",
    "# adata = anndata.AnnData(gpu_array.get())\n",
    "# adata.var_names = genes.to_pandas()"
   ]
  },
  {
   "cell_type": "markdown",
   "metadata": {},
   "source": [
    "Before filtering the count matrix, we save the 'raw' expression values of the marker genes to use for labeling cells afterward."
   ]
  },
  {
   "cell_type": "markdown",
   "metadata": {},
   "source": [
    "Using scanpy, we filter the count matrix to retain only the most variable genes."
   ]
  },
  {
   "cell_type": "code",
   "execution_count": 20,
   "metadata": {},
   "outputs": [
    {
     "name": "stdout",
     "output_type": "stream",
     "text": [
      "CPU times: user 4 µs, sys: 1 µs, total: 5 µs\n",
      "Wall time: 9.06 µs\n"
     ]
    }
   ],
   "source": [
    "%%time\n",
    "# sc.pp.highly_variable_genes(adata, n_top_genes=n_top_genes, flavor=\"cell_ranger\")\n",
    "# print(\"Full time: %s\" % (time.time() - start))\n",
    "# sc_hightly_variable = genes[adata.var.highly_variable.values]\n",
    "# sc_hightly_variable.head(10)"
   ]
  },
  {
   "cell_type": "code",
   "execution_count": 21,
   "metadata": {},
   "outputs": [
    {
     "name": "stdout",
     "output_type": "stream",
     "text": [
      "CPU times: user 301 ms, sys: 7.82 ms, total: 308 ms\n",
      "Wall time: 299 ms\n"
     ]
    },
    {
     "data": {
      "text/plain": [
       "(4000,)"
      ]
     },
     "execution_count": 21,
     "metadata": {},
     "output_type": "execute_result"
    }
   ],
   "source": [
    "%%time\n",
    "\n",
    "mean = sum_gpu_array / sparse_gpu_array.shape[0]\n",
    "mean[mean == 0] = 1e-12\n",
    "\n",
    "mean_sq = sum_sq_gpu_array / sparse_gpu_array.shape[0]\n",
    "variance = mean_sq - mean ** 2\n",
    "variance *= sparse_gpu_array.shape[1] / (sparse_gpu_array.shape[0] - 1) \n",
    "dispersion = variance / mean\n",
    "\n",
    "df = pd.DataFrame()\n",
    "df['genes'] = genes.to_array()\n",
    "df['means'] = mean.tolist()\n",
    "df['dispersions'] = dispersion.tolist()\n",
    "df['mean_bin'] = pd.cut(\n",
    "    df['means'],\n",
    "    np.r_[-np.inf, np.percentile(df['means'], np.arange(10, 105, 5)), np.inf],\n",
    ")\n",
    "\n",
    "disp_grouped = df.groupby('mean_bin')['dispersions']\n",
    "disp_median_bin = disp_grouped.median()\n",
    "\n",
    "with warnings.catch_warnings():\n",
    "    warnings.simplefilter('ignore')\n",
    "    disp_mad_bin = disp_grouped.apply(robust.mad)\n",
    "    df['dispersions_norm'] = (\n",
    "        df['dispersions'].values - disp_median_bin[df['mean_bin'].values].values\n",
    "    ) / disp_mad_bin[df['mean_bin'].values].values\n",
    "\n",
    "dispersion_norm = df['dispersions_norm'].values\n",
    "\n",
    "dispersion_norm = dispersion_norm[~np.isnan(dispersion_norm)]\n",
    "dispersion_norm[::-1].sort()\n",
    "\n",
    "if n_top_genes > df.shape[0]:\n",
    "    n_top_genes = df.shape[0]\n",
    "\n",
    "disp_cut_off = dispersion_norm[n_top_genes - 1]\n",
    "vaiable_genes = np.nan_to_num(df['dispersions_norm'].values) >= disp_cut_off\n",
    "\n",
    "genes = genes[vaiable_genes]\n",
    "\n",
    "# Filter highly variable genes\n",
    "dask_array = sparse_gpu_array[:, vaiable_genes]\n",
    "\n",
    "print(\"Highly variable genes: %s\" % (time.time() - start))\n",
    "genes.shape"
   ]
  },
  {
   "cell_type": "markdown",
   "metadata": {},
   "source": [
    "### Regress out confounding factors (number of counts, mitochondrial gene expression)"
   ]
  },
  {
   "cell_type": "markdown",
   "metadata": {},
   "source": [
    "We can now perform regression on the count matrix to correct for confounding factors -  for example purposes, we use the number of counts and the expression of mitochondrial genes (named starting with `mt-`).\n",
    "\n",
    "We now calculate the total counts and the percentage of mitochondrial counts for each cell."
   ]
  },
  {
   "cell_type": "code",
   "execution_count": 23,
   "metadata": {},
   "outputs": [
    {
     "name": "stdout",
     "output_type": "stream",
     "text": [
      "CPU times: user 2.06 s, sys: 396 ms, total: 2.46 s\n",
      "Wall time: 4.93 s\n"
     ]
    },
    {
     "data": {
      "text/plain": [
       "(198333, 4000)"
      ]
     },
     "execution_count": 23,
     "metadata": {},
     "output_type": "execute_result"
    }
   ],
   "source": [
    "%%time\n",
    "regress_out = time.time()\n",
    "\n",
    "@with_cupy_rmm\n",
    "def csr_to_csc(csr_array, client):\n",
    "    def _conv_csr_to_csc(x):\n",
    "        return  x.tocsc()\n",
    "\n",
    "    parts = client.sync(_extract_partitions, csr_array)\n",
    "    futures = [client.submit(_conv_csr_to_csc, \n",
    "                             part, \n",
    "                             workers=[w], \n",
    "                             pure=False)\n",
    "               for w, part in parts]\n",
    "    objs = []\n",
    "    shape = csr_array.shape\n",
    "    for i in range(len(futures)):\n",
    "        obj = dask.array.from_delayed(futures[i], \n",
    "                                      shape=futures[i].result().shape,\n",
    "                                      dtype=cp.float32)\n",
    "        objs.append(obj)\n",
    "    return dask.array.concatenate(objs)\n",
    "\n",
    "sparse_gpu_array = csr_to_csc(dask_array, client=client)\n",
    "sparse_gpu_array = sparse_gpu_array.persist()\n",
    "sparse_gpu_array.shape"
   ]
  },
  {
   "cell_type": "code",
   "execution_count": 24,
   "metadata": {},
   "outputs": [
    {
     "name": "stdout",
     "output_type": "stream",
     "text": [
      "CPU times: user 570 ms, sys: 58 ms, total: 628 ms\n",
      "Wall time: 3.37 s\n"
     ]
    }
   ],
   "source": [
    "%%time\n",
    "\n",
    "@with_cupy_rmm\n",
    "def sum_csc(csc_array, client):\n",
    "\n",
    "    shape = csc_array.shape\n",
    "    def __sum(x):\n",
    "        return x.sum(axis=1)\n",
    "\n",
    "    parts = client.sync(_extract_partitions, csc_array)\n",
    "    futures = [client.submit(__sum, \n",
    "                             part, \n",
    "                             workers=[w], \n",
    "                             pure=False)\n",
    "               for w, part in parts]\n",
    "    objs = []\n",
    "    for i in range(len(futures)):\n",
    "        obj = dask.array.from_delayed(futures[i], \n",
    "                                      shape=futures[i].result().shape,\n",
    "                                      dtype=cp.float32)\n",
    "        objs.append(obj)\n",
    "    return dask.array.concatenate(objs)\n",
    "\n",
    "mito_genes = genes.str.startswith(MITO_GENE_PREFIX)\n",
    "mito_genes = cp.fromDlpack(mito_genes.to_dlpack())\n",
    "mito_genes_indices = cp.where(mito_genes == 1)[0]\n",
    "\n",
    "# # n_counts = dask.array.sum(sparse_gpu_array, axis=1, keepdims=False)\n",
    "n_counts = sum_csc(sparse_gpu_array, client=client)\n",
    "n_counts = dask.array.sum(n_counts, axis=1).compute()\n",
    "\n",
    "result = dask.array.take(sparse_gpu_array,\n",
    "                         mito_genes_indices.tolist(),\n",
    "                         axis=1)\n",
    "result = sum_csc(result, client=client)\n",
    "result = dask.array.sum(result, axis=1)\n",
    "result = dask.array.true_divide(result, n_counts)\n",
    "# result.compute()\n",
    "\n",
    "percent_mito = dask.array.ravel(result)\n",
    "percent_mito = percent_mito.compute()\n",
    "del result"
   ]
  },
  {
   "cell_type": "markdown",
   "metadata": {},
   "source": [
    "And perform regression:"
   ]
  },
  {
   "cell_type": "code",
   "execution_count": 25,
   "metadata": {},
   "outputs": [
    {
     "name": "stdout",
     "output_type": "stream",
     "text": [
      "CPU times: user 6.04 ms, sys: 4.31 ms, total: 10.3 ms\n",
      "Wall time: 7.5 ms\n"
     ]
    },
    {
     "data": {
      "text/plain": [
       "(198333, 3)"
      ]
     },
     "execution_count": 25,
     "metadata": {},
     "output_type": "execute_result"
    }
   ],
   "source": [
    "%%time\n",
    "# dk_sparse_gpu_array = dask.array.from_array(sparse_gpu_array, chunks=chunk_size, asarray=False)\n",
    "regressors = cp.ones((n_counts.shape[0]*3), dtype=cp.float32).reshape((n_counts.shape[0], 3), order=\"F\")\n",
    "regressors[:, 1] = n_counts\n",
    "regressors[:, 2] = percent_mito\n",
    "\n",
    "X = dask.array.from_array(regressors, asarray=False)\n",
    "del regressors\n",
    "del n_counts\n",
    "X.shape"
   ]
  },
  {
   "cell_type": "code",
   "execution_count": 26,
   "metadata": {},
   "outputs": [
    {
     "name": "stdout",
     "output_type": "stream",
     "text": [
      "Creating dask tasks for LinearRegression...\n",
      "0\n",
      "1000\n",
      "2000\n",
      "3000\n",
      "Computing...\n",
      "<class 'dask.array.core.Array'> (198333, 4000)\n",
      "CPU times: user 171 ms, sys: 21.2 ms, total: 192 ms\n",
      "Wall time: 175 ms\n"
     ]
    },
    {
     "data": {
      "text/html": [
       "<table>\n",
       "<tr>\n",
       "<td>\n",
       "<table>\n",
       "  <thead>\n",
       "    <tr><td> </td><th> Array </th><th> Chunk </th></tr>\n",
       "  </thead>\n",
       "  <tbody>\n",
       "    <tr><th> Bytes </th><td> 3.17 GB </td> <td> 15.87 MB </td></tr>\n",
       "    <tr><th> Shape </th><td> (198333, 4000) </td> <td> (198333, 20) </td></tr>\n",
       "    <tr><th> Count </th><td> 3012 Tasks </td><td> 200 Chunks </td></tr>\n",
       "    <tr><th> Type </th><td> float32 </td><td> numpy.ndarray </td></tr>\n",
       "  </tbody>\n",
       "</table>\n",
       "</td>\n",
       "<td>\n",
       "<svg width=\"79\" height=\"170\" style=\"stroke:rgb(0,0,0);stroke-width:1\" >\n",
       "\n",
       "  <!-- Horizontal lines -->\n",
       "  <line x1=\"0\" y1=\"0\" x2=\"29\" y2=\"0\" style=\"stroke-width:2\" />\n",
       "  <line x1=\"0\" y1=\"120\" x2=\"29\" y2=\"120\" style=\"stroke-width:2\" />\n",
       "\n",
       "  <!-- Vertical lines -->\n",
       "  <line x1=\"0\" y1=\"0\" x2=\"0\" y2=\"120\" style=\"stroke-width:2\" />\n",
       "  <line x1=\"1\" y1=\"0\" x2=\"1\" y2=\"120\" />\n",
       "  <line x1=\"3\" y1=\"0\" x2=\"3\" y2=\"120\" />\n",
       "  <line x1=\"4\" y1=\"0\" x2=\"4\" y2=\"120\" />\n",
       "  <line x1=\"6\" y1=\"0\" x2=\"6\" y2=\"120\" />\n",
       "  <line x1=\"7\" y1=\"0\" x2=\"7\" y2=\"120\" />\n",
       "  <line x1=\"9\" y1=\"0\" x2=\"9\" y2=\"120\" />\n",
       "  <line x1=\"10\" y1=\"0\" x2=\"10\" y2=\"120\" />\n",
       "  <line x1=\"12\" y1=\"0\" x2=\"12\" y2=\"120\" />\n",
       "  <line x1=\"13\" y1=\"0\" x2=\"13\" y2=\"120\" />\n",
       "  <line x1=\"15\" y1=\"0\" x2=\"15\" y2=\"120\" />\n",
       "  <line x1=\"16\" y1=\"0\" x2=\"16\" y2=\"120\" />\n",
       "  <line x1=\"18\" y1=\"0\" x2=\"18\" y2=\"120\" />\n",
       "  <line x1=\"19\" y1=\"0\" x2=\"19\" y2=\"120\" />\n",
       "  <line x1=\"21\" y1=\"0\" x2=\"21\" y2=\"120\" />\n",
       "  <line x1=\"22\" y1=\"0\" x2=\"22\" y2=\"120\" />\n",
       "  <line x1=\"24\" y1=\"0\" x2=\"24\" y2=\"120\" />\n",
       "  <line x1=\"25\" y1=\"0\" x2=\"25\" y2=\"120\" />\n",
       "  <line x1=\"27\" y1=\"0\" x2=\"27\" y2=\"120\" />\n",
       "  <line x1=\"29\" y1=\"0\" x2=\"29\" y2=\"120\" style=\"stroke-width:2\" />\n",
       "\n",
       "  <!-- Colored Rectangle -->\n",
       "  <polygon points=\"0.0,0.0 29.07776814429872,0.0 29.07776814429872,120.0 0.0,120.0\" style=\"fill:#8B4903A0;stroke-width:0\"/>\n",
       "\n",
       "  <!-- Text -->\n",
       "  <text x=\"14.538884\" y=\"140.000000\" font-size=\"1.0rem\" font-weight=\"100\" text-anchor=\"middle\" >4000</text>\n",
       "  <text x=\"49.077768\" y=\"60.000000\" font-size=\"1.0rem\" font-weight=\"100\" text-anchor=\"middle\" transform=\"rotate(-90,49.077768,60.000000)\">198333</text>\n",
       "</svg>\n",
       "</td>\n",
       "</tr>\n",
       "</table>"
      ],
      "text/plain": [
       "dask.array<concatenate, shape=(198333, 4000), dtype=float32, chunksize=(198333, 20), chunktype=numpy.ndarray>"
      ]
     },
     "execution_count": 26,
     "metadata": {},
     "output_type": "execute_result"
    }
   ],
   "source": [
    "%%time\n",
    "\n",
    "# sparse_gpu_array = rapids_scanpy_funcs.regress_out(\n",
    "#     sparse_gpu_array, n_counts, percent_mito)\n",
    "# sparse_gpu_array.shape\n",
    "\n",
    "def regress(regressors, arr, cols_per_task=10):\n",
    "    \n",
    "    @delayed\n",
    "    def _regress(X, data):\n",
    "        if hasattr(data, 'todense'):\n",
    "            data = data.todense()\n",
    "\n",
    "        outputs = cp.empty(data.shape, dtype=data.dtype, order=\"F\")\n",
    "        for i in range(data.shape[1]):\n",
    "            y = data[:, i]\n",
    "            lr = LinearRegression(fit_intercept=False, output_type=\"cupy\")\n",
    "            lr.fit(X, y, convert_dtype=True)\n",
    "            outputs[:, i] = y.reshape(y.shape[0], ) - lr.predict(X).reshape(y.shape[0])\n",
    "        del data\n",
    "        return outputs\n",
    "\n",
    "    print('Creating dask tasks for LinearRegression...')\n",
    "    ld_delay = []\n",
    "    row_cnt = arr.shape[0]\n",
    "    for i in range(0, arr.shape[1], cols_per_task):\n",
    "        if i % 1000 == 0: print(i)\n",
    "\n",
    "        y = arr[:, i:i+cols_per_task]\n",
    "        ld_delay.append(\n",
    "            dask.array.from_delayed(\n",
    "                (_regress)(regressors, y),\n",
    "                dtype=cp.float32,\n",
    "                shape=(arr.shape[0], cols_per_task)))\n",
    "        del y\n",
    "\n",
    "    print('Computing...')\n",
    "    result = dask.array.concatenate(ld_delay, axis=1)\n",
    "    return result\n",
    "\n",
    "result = regress(X, sparse_gpu_array, cols_per_task=20)\n",
    "# result = result.compute()\n",
    "result"
   ]
  },
  {
   "cell_type": "markdown",
   "metadata": {},
   "source": [
    "### Scale"
   ]
  },
  {
   "cell_type": "markdown",
   "metadata": {},
   "source": [
    "Finally, we scale the count matrix to obtain a z-score and apply a cutoff value of 10 standard deviations, obtaining the preprocessed count matrix."
   ]
  },
  {
   "cell_type": "code",
   "execution_count": 27,
   "metadata": {},
   "outputs": [
    {
     "name": "stdout",
     "output_type": "stream",
     "text": [
      "CPU times: user 23.2 s, sys: 3.89 s, total: 27.1 s\n",
      "Wall time: 1min 53s\n"
     ]
    },
    {
     "data": {
      "text/html": [
       "<table>\n",
       "<tr>\n",
       "<td>\n",
       "<table>\n",
       "  <thead>\n",
       "    <tr><td> </td><th> Array </th><th> Chunk </th></tr>\n",
       "  </thead>\n",
       "  <tbody>\n",
       "    <tr><th> Bytes </th><td> 3.17 GB </td> <td> 15.87 MB </td></tr>\n",
       "    <tr><th> Shape </th><td> (198333, 4000) </td> <td> (198333, 20) </td></tr>\n",
       "    <tr><th> Count </th><td> 600 Tasks </td><td> 200 Chunks </td></tr>\n",
       "    <tr><th> Type </th><td> float32 </td><td> numpy.ndarray </td></tr>\n",
       "  </tbody>\n",
       "</table>\n",
       "</td>\n",
       "<td>\n",
       "<svg width=\"79\" height=\"170\" style=\"stroke:rgb(0,0,0);stroke-width:1\" >\n",
       "\n",
       "  <!-- Horizontal lines -->\n",
       "  <line x1=\"0\" y1=\"0\" x2=\"29\" y2=\"0\" style=\"stroke-width:2\" />\n",
       "  <line x1=\"0\" y1=\"120\" x2=\"29\" y2=\"120\" style=\"stroke-width:2\" />\n",
       "\n",
       "  <!-- Vertical lines -->\n",
       "  <line x1=\"0\" y1=\"0\" x2=\"0\" y2=\"120\" style=\"stroke-width:2\" />\n",
       "  <line x1=\"1\" y1=\"0\" x2=\"1\" y2=\"120\" />\n",
       "  <line x1=\"3\" y1=\"0\" x2=\"3\" y2=\"120\" />\n",
       "  <line x1=\"4\" y1=\"0\" x2=\"4\" y2=\"120\" />\n",
       "  <line x1=\"6\" y1=\"0\" x2=\"6\" y2=\"120\" />\n",
       "  <line x1=\"7\" y1=\"0\" x2=\"7\" y2=\"120\" />\n",
       "  <line x1=\"9\" y1=\"0\" x2=\"9\" y2=\"120\" />\n",
       "  <line x1=\"10\" y1=\"0\" x2=\"10\" y2=\"120\" />\n",
       "  <line x1=\"12\" y1=\"0\" x2=\"12\" y2=\"120\" />\n",
       "  <line x1=\"13\" y1=\"0\" x2=\"13\" y2=\"120\" />\n",
       "  <line x1=\"15\" y1=\"0\" x2=\"15\" y2=\"120\" />\n",
       "  <line x1=\"16\" y1=\"0\" x2=\"16\" y2=\"120\" />\n",
       "  <line x1=\"18\" y1=\"0\" x2=\"18\" y2=\"120\" />\n",
       "  <line x1=\"19\" y1=\"0\" x2=\"19\" y2=\"120\" />\n",
       "  <line x1=\"21\" y1=\"0\" x2=\"21\" y2=\"120\" />\n",
       "  <line x1=\"22\" y1=\"0\" x2=\"22\" y2=\"120\" />\n",
       "  <line x1=\"24\" y1=\"0\" x2=\"24\" y2=\"120\" />\n",
       "  <line x1=\"25\" y1=\"0\" x2=\"25\" y2=\"120\" />\n",
       "  <line x1=\"27\" y1=\"0\" x2=\"27\" y2=\"120\" />\n",
       "  <line x1=\"29\" y1=\"0\" x2=\"29\" y2=\"120\" style=\"stroke-width:2\" />\n",
       "\n",
       "  <!-- Colored Rectangle -->\n",
       "  <polygon points=\"0.0,0.0 29.07776814429872,0.0 29.07776814429872,120.0 0.0,120.0\" style=\"fill:#8B4903A0;stroke-width:0\"/>\n",
       "\n",
       "  <!-- Text -->\n",
       "  <text x=\"14.538884\" y=\"140.000000\" font-size=\"1.0rem\" font-weight=\"100\" text-anchor=\"middle\" >4000</text>\n",
       "  <text x=\"49.077768\" y=\"60.000000\" font-size=\"1.0rem\" font-weight=\"100\" text-anchor=\"middle\" transform=\"rotate(-90,49.077768,60.000000)\">198333</text>\n",
       "</svg>\n",
       "</td>\n",
       "</tr>\n",
       "</table>"
      ],
      "text/plain": [
       "dask.array<concatenate, shape=(198333, 4000), dtype=float32, chunksize=(198333, 20), chunktype=numpy.ndarray>"
      ]
     },
     "execution_count": 27,
     "metadata": {},
     "output_type": "execute_result"
    }
   ],
   "source": [
    "%%time\n",
    "# sparse_gpu_array = rapids_scanpy_funcs.scale(sparse_gpu_array, max_value=10)\n",
    "\n",
    "max_value=10\n",
    "\n",
    "@with_cupy_rmm\n",
    "def clip(arr, client, max_value=10):\n",
    "\n",
    "    shape = arr.shape\n",
    "    def __clip(x, max_value):\n",
    "        return x.clip(a_max=max_value)\n",
    "\n",
    "    parts = client.sync(_extract_partitions, arr)\n",
    "    futures = [client.submit(__clip, \n",
    "                             part,\n",
    "                             max_value,\n",
    "                             workers=[w], \n",
    "                             pure=False)\n",
    "               for w, part in parts]\n",
    "    objs = []\n",
    "    for i in range(len(futures)):\n",
    "        obj = dask.array.from_delayed(futures[i],\n",
    "                                      shape=futures[i].result().shape,\n",
    "                                      dtype=cp.float32)\n",
    "        objs.append(obj)\n",
    "\n",
    "    return dask.array.concatenate(objs, axis=1)\n",
    "\n",
    "sparse_gpu_array = result\n",
    "mean = dask.array.mean(sparse_gpu_array, axis=0)\n",
    "temp_array = dask.array.subtract(sparse_gpu_array, mean)\n",
    "\n",
    "stddev = dask.array.sqrt(mean.var())\n",
    "temp_array = dask.array.true_divide(temp_array, stddev)\n",
    "sparse_gpu_array = clip(temp_array, client, max_value)\n",
    "\n",
    "del stddev\n",
    "del temp_array\n",
    "del mean\n",
    "print(\"Regressout: %s\" % (time.time() - regress_out))\n",
    "sparse_gpu_array"
   ]
  },
  {
   "cell_type": "markdown",
   "metadata": {},
   "source": [
    "## Cluster & Visualize"
   ]
  },
  {
   "cell_type": "markdown",
   "metadata": {},
   "source": [
    "We store the preprocessed count matrix as an AnnData object, which is currently in host memory. We also add the expression levels of the marker genes as observations to the annData object."
   ]
  },
  {
   "cell_type": "markdown",
   "metadata": {},
   "source": [
    "### Reduce"
   ]
  },
  {
   "cell_type": "markdown",
   "metadata": {},
   "source": [
    "We use PCA to reduce the dimensionality of the matrix to its top 50 principal components. Here, we use Dask to parallelize across multiple GPUs."
   ]
  },
  {
   "cell_type": "markdown",
   "metadata": {},
   "source": [
    "The PCA multi-GPU time includes initial data transfer, which is about 20gb. "
   ]
  },
  {
   "cell_type": "code",
   "execution_count": 28,
   "metadata": {},
   "outputs": [
    {
     "name": "stdout",
     "output_type": "stream",
     "text": [
      "Number of records is 198333 and batch size is 198333\n",
      "Creating dask df from delays...\n",
      "Creating Dataframe from futures...\n",
      "CPU times: user 5.1 s, sys: 303 ms, total: 5.41 s\n",
      "Wall time: 14.2 s\n"
     ]
    },
    {
     "data": {
      "text/plain": [
       "(198333, 50)"
      ]
     },
     "execution_count": 28,
     "metadata": {},
     "output_type": "execute_result"
    }
   ],
   "source": [
    "%%time\n",
    "\n",
    "# dask_df = dask.dataframe.from_array(sparse_gpu_array, columns=gene.to_arrow().to_pylist())\n",
    "# dask_cu_df = dask_cudf.from_dask_dataframe(dask_df)\n",
    "#\n",
    "# The above line does not work due to worker failure while converting sparse\n",
    "# array to dataframes. Folloiwng code is a workaround for loading data using \n",
    "# delayed functions.\n",
    "\n",
    "def sparse_array_to_df(sparse_dask_array, n_workers):\n",
    "    \n",
    "    @delayed\n",
    "    def _sparse_array_to_df(sparse_array):\n",
    "        return cudf.DataFrame(sparse_array)\n",
    "\n",
    "    num_recs = sparse_dask_array.shape[0]\n",
    "    batch_size = math.ceil(num_recs / n_workers)\n",
    "    columns = genes.to_arrow().to_pylist()\n",
    "    print('Number of records is', num_recs, 'and batch size is', batch_size)\n",
    "\n",
    "    dls = []\n",
    "    for start in range(0, num_recs, batch_size):\n",
    "        bsize = min(num_recs - start, batch_size)\n",
    "        dls.append(_sparse_array_to_df(sparse_dask_array[start:start+bsize]))\n",
    "\n",
    "    import pandas\n",
    "\n",
    "    print(\"Creating dask df from delays...\")\n",
    "    prop_meta = {i: pandas.Series([], dtype='float32') for i in range(sparse_dask_array.shape[1])}\n",
    "    meta_df = cudf.DataFrame(prop_meta)\n",
    "\n",
    "    print(\"Creating Dataframe from futures...\")\n",
    "    return dask.dataframe.from_delayed(dls, meta=meta_df)\n",
    "\n",
    "def pca(sparse_gpu_array, n_workers):\n",
    "    dask_cu_df = sparse_array_to_df(sparse_gpu_array, n_workers)\n",
    "\n",
    "    pca = cu_dask_PCA(n_components=n_components, client=client)\n",
    "    dask_reduced_df = pca.fit_transform(dask_cu_df)\n",
    "\n",
    "    reduced_df = dask_reduced_df.compute()\n",
    "    \n",
    "    del dask_cu_df, dask_reduced_df\n",
    "    return reduced_df\n",
    "    \n",
    "reduced_df = pca(sparse_gpu_array, n_workers)\n",
    "reduced_df.shape"
   ]
  },
  {
   "cell_type": "code",
   "execution_count": 33,
   "metadata": {},
   "outputs": [
    {
     "data": {
      "text/html": [
       "<div>\n",
       "<style scoped>\n",
       "    .dataframe tbody tr th:only-of-type {\n",
       "        vertical-align: middle;\n",
       "    }\n",
       "\n",
       "    .dataframe tbody tr th {\n",
       "        vertical-align: top;\n",
       "    }\n",
       "\n",
       "    .dataframe thead th {\n",
       "        text-align: right;\n",
       "    }\n",
       "</style>\n",
       "<table border=\"1\" class=\"dataframe\">\n",
       "  <thead>\n",
       "    <tr style=\"text-align: right;\">\n",
       "      <th></th>\n",
       "      <th>0</th>\n",
       "      <th>1</th>\n",
       "      <th>2</th>\n",
       "      <th>3</th>\n",
       "      <th>4</th>\n",
       "      <th>5</th>\n",
       "      <th>6</th>\n",
       "      <th>7</th>\n",
       "      <th>8</th>\n",
       "      <th>9</th>\n",
       "      <th>...</th>\n",
       "      <th>40</th>\n",
       "      <th>41</th>\n",
       "      <th>42</th>\n",
       "      <th>43</th>\n",
       "      <th>44</th>\n",
       "      <th>45</th>\n",
       "      <th>46</th>\n",
       "      <th>47</th>\n",
       "      <th>48</th>\n",
       "      <th>49</th>\n",
       "    </tr>\n",
       "  </thead>\n",
       "  <tbody>\n",
       "    <tr>\n",
       "      <th>0</th>\n",
       "      <td>-110.287788</td>\n",
       "      <td>81.710541</td>\n",
       "      <td>15.017557</td>\n",
       "      <td>-5.582877</td>\n",
       "      <td>0.163267</td>\n",
       "      <td>-4.644833</td>\n",
       "      <td>1.884958</td>\n",
       "      <td>2.988470</td>\n",
       "      <td>1.315346</td>\n",
       "      <td>-0.322381</td>\n",
       "      <td>...</td>\n",
       "      <td>-0.020225</td>\n",
       "      <td>-0.021390</td>\n",
       "      <td>-0.071743</td>\n",
       "      <td>-0.039505</td>\n",
       "      <td>0.096331</td>\n",
       "      <td>-0.189826</td>\n",
       "      <td>0.103748</td>\n",
       "      <td>-0.270887</td>\n",
       "      <td>-0.027980</td>\n",
       "      <td>0.042857</td>\n",
       "    </tr>\n",
       "    <tr>\n",
       "      <th>1</th>\n",
       "      <td>-338.713257</td>\n",
       "      <td>60.717533</td>\n",
       "      <td>1.300355</td>\n",
       "      <td>-14.346850</td>\n",
       "      <td>-8.142589</td>\n",
       "      <td>5.484334</td>\n",
       "      <td>1.224845</td>\n",
       "      <td>-4.854540</td>\n",
       "      <td>-2.416663</td>\n",
       "      <td>0.322069</td>\n",
       "      <td>...</td>\n",
       "      <td>0.219112</td>\n",
       "      <td>0.140238</td>\n",
       "      <td>0.124476</td>\n",
       "      <td>0.002584</td>\n",
       "      <td>-0.000565</td>\n",
       "      <td>-0.839699</td>\n",
       "      <td>0.847559</td>\n",
       "      <td>-0.978904</td>\n",
       "      <td>0.124428</td>\n",
       "      <td>0.104584</td>\n",
       "    </tr>\n",
       "    <tr>\n",
       "      <th>2</th>\n",
       "      <td>-234.455307</td>\n",
       "      <td>76.576019</td>\n",
       "      <td>11.854481</td>\n",
       "      <td>-13.843772</td>\n",
       "      <td>-2.726775</td>\n",
       "      <td>-0.961709</td>\n",
       "      <td>4.564286</td>\n",
       "      <td>-0.705619</td>\n",
       "      <td>-0.618216</td>\n",
       "      <td>1.132426</td>\n",
       "      <td>...</td>\n",
       "      <td>-0.112538</td>\n",
       "      <td>-0.137103</td>\n",
       "      <td>-0.194139</td>\n",
       "      <td>-0.075249</td>\n",
       "      <td>-0.002046</td>\n",
       "      <td>0.638711</td>\n",
       "      <td>-0.716888</td>\n",
       "      <td>0.857600</td>\n",
       "      <td>-0.057438</td>\n",
       "      <td>-0.099358</td>\n",
       "    </tr>\n",
       "    <tr>\n",
       "      <th>3</th>\n",
       "      <td>18.460310</td>\n",
       "      <td>80.986633</td>\n",
       "      <td>12.535510</td>\n",
       "      <td>4.461323</td>\n",
       "      <td>-1.088422</td>\n",
       "      <td>-3.448105</td>\n",
       "      <td>-1.221292</td>\n",
       "      <td>1.209443</td>\n",
       "      <td>-0.190764</td>\n",
       "      <td>-0.470331</td>\n",
       "      <td>...</td>\n",
       "      <td>0.079440</td>\n",
       "      <td>0.088578</td>\n",
       "      <td>0.128911</td>\n",
       "      <td>-0.029144</td>\n",
       "      <td>-0.012166</td>\n",
       "      <td>-0.278131</td>\n",
       "      <td>0.283018</td>\n",
       "      <td>-0.297457</td>\n",
       "      <td>0.090820</td>\n",
       "      <td>0.063551</td>\n",
       "    </tr>\n",
       "    <tr>\n",
       "      <th>4</th>\n",
       "      <td>329.406586</td>\n",
       "      <td>-85.347565</td>\n",
       "      <td>-12.501551</td>\n",
       "      <td>-10.666812</td>\n",
       "      <td>7.269906</td>\n",
       "      <td>-4.111579</td>\n",
       "      <td>-3.340759</td>\n",
       "      <td>-0.556853</td>\n",
       "      <td>-0.601134</td>\n",
       "      <td>1.063960</td>\n",
       "      <td>...</td>\n",
       "      <td>0.041224</td>\n",
       "      <td>0.061817</td>\n",
       "      <td>0.091474</td>\n",
       "      <td>-0.041295</td>\n",
       "      <td>0.095892</td>\n",
       "      <td>-0.295909</td>\n",
       "      <td>0.235035</td>\n",
       "      <td>-0.193055</td>\n",
       "      <td>-0.160007</td>\n",
       "      <td>0.046820</td>\n",
       "    </tr>\n",
       "    <tr>\n",
       "      <th>5</th>\n",
       "      <td>448.880341</td>\n",
       "      <td>-329.146088</td>\n",
       "      <td>9.004066</td>\n",
       "      <td>3.333533</td>\n",
       "      <td>-20.196829</td>\n",
       "      <td>0.954951</td>\n",
       "      <td>4.150447</td>\n",
       "      <td>0.445239</td>\n",
       "      <td>0.556681</td>\n",
       "      <td>-1.104933</td>\n",
       "      <td>...</td>\n",
       "      <td>0.175663</td>\n",
       "      <td>0.398657</td>\n",
       "      <td>0.316320</td>\n",
       "      <td>-0.121199</td>\n",
       "      <td>0.544398</td>\n",
       "      <td>-0.288449</td>\n",
       "      <td>0.123479</td>\n",
       "      <td>0.211183</td>\n",
       "      <td>-0.525450</td>\n",
       "      <td>-0.056752</td>\n",
       "    </tr>\n",
       "    <tr>\n",
       "      <th>6</th>\n",
       "      <td>-198.556808</td>\n",
       "      <td>79.369865</td>\n",
       "      <td>14.002952</td>\n",
       "      <td>-12.046694</td>\n",
       "      <td>-1.154301</td>\n",
       "      <td>-3.102449</td>\n",
       "      <td>4.371997</td>\n",
       "      <td>1.397466</td>\n",
       "      <td>0.311428</td>\n",
       "      <td>0.671902</td>\n",
       "      <td>...</td>\n",
       "      <td>-0.086747</td>\n",
       "      <td>-0.227805</td>\n",
       "      <td>-0.277494</td>\n",
       "      <td>-0.023356</td>\n",
       "      <td>-0.011122</td>\n",
       "      <td>0.845029</td>\n",
       "      <td>-0.756432</td>\n",
       "      <td>0.873027</td>\n",
       "      <td>-0.126445</td>\n",
       "      <td>-0.056665</td>\n",
       "    </tr>\n",
       "    <tr>\n",
       "      <th>7</th>\n",
       "      <td>245.712753</td>\n",
       "      <td>57.968746</td>\n",
       "      <td>-2.555396</td>\n",
       "      <td>11.414824</td>\n",
       "      <td>9.545465</td>\n",
       "      <td>8.710940</td>\n",
       "      <td>3.946837</td>\n",
       "      <td>-1.995286</td>\n",
       "      <td>4.823443</td>\n",
       "      <td>-0.088178</td>\n",
       "      <td>...</td>\n",
       "      <td>-0.104731</td>\n",
       "      <td>0.322220</td>\n",
       "      <td>0.137524</td>\n",
       "      <td>-0.174235</td>\n",
       "      <td>0.329969</td>\n",
       "      <td>-0.420958</td>\n",
       "      <td>0.476140</td>\n",
       "      <td>0.327753</td>\n",
       "      <td>-0.408715</td>\n",
       "      <td>0.015923</td>\n",
       "    </tr>\n",
       "    <tr>\n",
       "      <th>8</th>\n",
       "      <td>179.234955</td>\n",
       "      <td>80.006813</td>\n",
       "      <td>9.048052</td>\n",
       "      <td>17.038286</td>\n",
       "      <td>-3.237707</td>\n",
       "      <td>-1.227132</td>\n",
       "      <td>-4.543579</td>\n",
       "      <td>-1.697717</td>\n",
       "      <td>-2.292172</td>\n",
       "      <td>-0.372918</td>\n",
       "      <td>...</td>\n",
       "      <td>0.129752</td>\n",
       "      <td>-0.013523</td>\n",
       "      <td>0.004592</td>\n",
       "      <td>0.006695</td>\n",
       "      <td>-0.073191</td>\n",
       "      <td>0.317261</td>\n",
       "      <td>-0.255257</td>\n",
       "      <td>0.479675</td>\n",
       "      <td>0.050200</td>\n",
       "      <td>-0.097809</td>\n",
       "    </tr>\n",
       "    <tr>\n",
       "      <th>9</th>\n",
       "      <td>282.087158</td>\n",
       "      <td>3.675821</td>\n",
       "      <td>-12.002511</td>\n",
       "      <td>-3.086825</td>\n",
       "      <td>15.159449</td>\n",
       "      <td>4.704659</td>\n",
       "      <td>1.389500</td>\n",
       "      <td>2.580251</td>\n",
       "      <td>-2.955791</td>\n",
       "      <td>-0.666166</td>\n",
       "      <td>...</td>\n",
       "      <td>-0.058606</td>\n",
       "      <td>-0.301943</td>\n",
       "      <td>-0.224884</td>\n",
       "      <td>0.120309</td>\n",
       "      <td>-0.228998</td>\n",
       "      <td>0.319811</td>\n",
       "      <td>-0.260899</td>\n",
       "      <td>0.008118</td>\n",
       "      <td>0.284823</td>\n",
       "      <td>-0.115895</td>\n",
       "    </tr>\n",
       "    <tr>\n",
       "      <th>10</th>\n",
       "      <td>353.990143</td>\n",
       "      <td>-134.416931</td>\n",
       "      <td>-9.581166</td>\n",
       "      <td>-10.282172</td>\n",
       "      <td>1.100491</td>\n",
       "      <td>-5.847268</td>\n",
       "      <td>-2.773515</td>\n",
       "      <td>-2.118089</td>\n",
       "      <td>2.228038</td>\n",
       "      <td>0.347581</td>\n",
       "      <td>...</td>\n",
       "      <td>-0.101246</td>\n",
       "      <td>-0.273911</td>\n",
       "      <td>-0.211363</td>\n",
       "      <td>0.080602</td>\n",
       "      <td>-0.364513</td>\n",
       "      <td>0.107278</td>\n",
       "      <td>-0.010970</td>\n",
       "      <td>-0.260773</td>\n",
       "      <td>0.326245</td>\n",
       "      <td>0.070923</td>\n",
       "    </tr>\n",
       "    <tr>\n",
       "      <th>11</th>\n",
       "      <td>223.167053</td>\n",
       "      <td>74.883301</td>\n",
       "      <td>4.521372</td>\n",
       "      <td>17.620226</td>\n",
       "      <td>1.786962</td>\n",
       "      <td>4.284071</td>\n",
       "      <td>-0.780050</td>\n",
       "      <td>-3.751147</td>\n",
       "      <td>3.129669</td>\n",
       "      <td>2.471686</td>\n",
       "      <td>...</td>\n",
       "      <td>0.092374</td>\n",
       "      <td>-0.376353</td>\n",
       "      <td>-0.326395</td>\n",
       "      <td>-0.029521</td>\n",
       "      <td>0.192377</td>\n",
       "      <td>0.166494</td>\n",
       "      <td>-0.721989</td>\n",
       "      <td>0.072700</td>\n",
       "      <td>-0.084901</td>\n",
       "      <td>-0.118025</td>\n",
       "    </tr>\n",
       "    <tr>\n",
       "      <th>12</th>\n",
       "      <td>-249.742691</td>\n",
       "      <td>74.846733</td>\n",
       "      <td>10.648761</td>\n",
       "      <td>-14.375828</td>\n",
       "      <td>-3.542506</td>\n",
       "      <td>-0.130786</td>\n",
       "      <td>4.358665</td>\n",
       "      <td>-1.615888</td>\n",
       "      <td>-1.157188</td>\n",
       "      <td>1.224458</td>\n",
       "      <td>...</td>\n",
       "      <td>0.033831</td>\n",
       "      <td>-0.066760</td>\n",
       "      <td>-0.182192</td>\n",
       "      <td>-0.003390</td>\n",
       "      <td>-0.173315</td>\n",
       "      <td>0.483685</td>\n",
       "      <td>-0.473681</td>\n",
       "      <td>0.535678</td>\n",
       "      <td>0.037971</td>\n",
       "      <td>-0.070174</td>\n",
       "    </tr>\n",
       "    <tr>\n",
       "      <th>13</th>\n",
       "      <td>281.480682</td>\n",
       "      <td>4.682706</td>\n",
       "      <td>-11.855466</td>\n",
       "      <td>-2.877347</td>\n",
       "      <td>15.077297</td>\n",
       "      <td>4.930720</td>\n",
       "      <td>1.541818</td>\n",
       "      <td>2.521059</td>\n",
       "      <td>-2.875265</td>\n",
       "      <td>-0.722264</td>\n",
       "      <td>...</td>\n",
       "      <td>-0.060132</td>\n",
       "      <td>-0.323399</td>\n",
       "      <td>-0.228947</td>\n",
       "      <td>0.146825</td>\n",
       "      <td>-0.270945</td>\n",
       "      <td>0.311791</td>\n",
       "      <td>-0.246483</td>\n",
       "      <td>-0.020420</td>\n",
       "      <td>0.281387</td>\n",
       "      <td>-0.112146</td>\n",
       "    </tr>\n",
       "    <tr>\n",
       "      <th>14</th>\n",
       "      <td>444.444489</td>\n",
       "      <td>-319.903656</td>\n",
       "      <td>8.116000</td>\n",
       "      <td>2.362660</td>\n",
       "      <td>-19.388748</td>\n",
       "      <td>0.357258</td>\n",
       "      <td>3.925438</td>\n",
       "      <td>0.207482</td>\n",
       "      <td>0.989472</td>\n",
       "      <td>-1.198861</td>\n",
       "      <td>...</td>\n",
       "      <td>0.183325</td>\n",
       "      <td>0.410858</td>\n",
       "      <td>0.329355</td>\n",
       "      <td>-0.117875</td>\n",
       "      <td>0.544623</td>\n",
       "      <td>-0.314278</td>\n",
       "      <td>0.140884</td>\n",
       "      <td>0.185751</td>\n",
       "      <td>-0.507431</td>\n",
       "      <td>-0.058312</td>\n",
       "    </tr>\n",
       "    <tr>\n",
       "      <th>15</th>\n",
       "      <td>334.286560</td>\n",
       "      <td>-94.992393</td>\n",
       "      <td>-11.981943</td>\n",
       "      <td>-10.799854</td>\n",
       "      <td>6.112829</td>\n",
       "      <td>-4.615560</td>\n",
       "      <td>-3.388313</td>\n",
       "      <td>-0.949710</td>\n",
       "      <td>0.027705</td>\n",
       "      <td>1.009783</td>\n",
       "      <td>...</td>\n",
       "      <td>0.013107</td>\n",
       "      <td>-0.029752</td>\n",
       "      <td>0.020048</td>\n",
       "      <td>-0.013278</td>\n",
       "      <td>-0.011810</td>\n",
       "      <td>-0.245145</td>\n",
       "      <td>0.210259</td>\n",
       "      <td>-0.241513</td>\n",
       "      <td>-0.050294</td>\n",
       "      <td>0.050770</td>\n",
       "    </tr>\n",
       "    <tr>\n",
       "      <th>16</th>\n",
       "      <td>235.873962</td>\n",
       "      <td>67.501205</td>\n",
       "      <td>0.827091</td>\n",
       "      <td>14.914251</td>\n",
       "      <td>5.977554</td>\n",
       "      <td>7.238469</td>\n",
       "      <td>2.113062</td>\n",
       "      <td>-3.362227</td>\n",
       "      <td>5.004535</td>\n",
       "      <td>1.480141</td>\n",
       "      <td>...</td>\n",
       "      <td>-0.265914</td>\n",
       "      <td>0.058147</td>\n",
       "      <td>0.277781</td>\n",
       "      <td>-0.545316</td>\n",
       "      <td>0.241334</td>\n",
       "      <td>-0.152964</td>\n",
       "      <td>-0.287297</td>\n",
       "      <td>-0.234479</td>\n",
       "      <td>-0.409746</td>\n",
       "      <td>-0.595569</td>\n",
       "    </tr>\n",
       "    <tr>\n",
       "      <th>17</th>\n",
       "      <td>437.372803</td>\n",
       "      <td>-305.241211</td>\n",
       "      <td>6.531539</td>\n",
       "      <td>0.980509</td>\n",
       "      <td>-18.085041</td>\n",
       "      <td>-0.529154</td>\n",
       "      <td>3.515548</td>\n",
       "      <td>-0.230968</td>\n",
       "      <td>1.597473</td>\n",
       "      <td>-1.318965</td>\n",
       "      <td>...</td>\n",
       "      <td>0.172647</td>\n",
       "      <td>0.383615</td>\n",
       "      <td>0.301140</td>\n",
       "      <td>-0.117839</td>\n",
       "      <td>0.516164</td>\n",
       "      <td>-0.224399</td>\n",
       "      <td>0.065051</td>\n",
       "      <td>0.264896</td>\n",
       "      <td>-0.491023</td>\n",
       "      <td>-0.067162</td>\n",
       "    </tr>\n",
       "    <tr>\n",
       "      <th>18</th>\n",
       "      <td>412.798615</td>\n",
       "      <td>-254.536270</td>\n",
       "      <td>1.125578</td>\n",
       "      <td>-3.213344</td>\n",
       "      <td>-13.008220</td>\n",
       "      <td>-3.211875</td>\n",
       "      <td>1.755691</td>\n",
       "      <td>-1.596406</td>\n",
       "      <td>3.133597</td>\n",
       "      <td>-1.373869</td>\n",
       "      <td>...</td>\n",
       "      <td>0.065278</td>\n",
       "      <td>0.153741</td>\n",
       "      <td>0.092919</td>\n",
       "      <td>-0.071319</td>\n",
       "      <td>0.206418</td>\n",
       "      <td>0.147107</td>\n",
       "      <td>-0.193993</td>\n",
       "      <td>0.405524</td>\n",
       "      <td>-0.229807</td>\n",
       "      <td>-0.073070</td>\n",
       "    </tr>\n",
       "    <tr>\n",
       "      <th>19</th>\n",
       "      <td>-292.418274</td>\n",
       "      <td>69.071976</td>\n",
       "      <td>6.527407</td>\n",
       "      <td>-15.154613</td>\n",
       "      <td>-5.736513</td>\n",
       "      <td>2.749264</td>\n",
       "      <td>3.349158</td>\n",
       "      <td>-3.811907</td>\n",
       "      <td>-2.153863</td>\n",
       "      <td>1.090859</td>\n",
       "      <td>...</td>\n",
       "      <td>0.197366</td>\n",
       "      <td>0.147807</td>\n",
       "      <td>0.104808</td>\n",
       "      <td>0.014271</td>\n",
       "      <td>-0.041890</td>\n",
       "      <td>-0.367567</td>\n",
       "      <td>0.403741</td>\n",
       "      <td>-0.335819</td>\n",
       "      <td>0.069623</td>\n",
       "      <td>0.082611</td>\n",
       "    </tr>\n",
       "  </tbody>\n",
       "</table>\n",
       "<p>20 rows × 50 columns</p>\n",
       "</div>"
      ],
      "text/plain": [
       "            0           1          2          3          4         5   \\\n",
       "0  -110.287788   81.710541  15.017557  -5.582877   0.163267 -4.644833   \n",
       "1  -338.713257   60.717533   1.300355 -14.346850  -8.142589  5.484334   \n",
       "2  -234.455307   76.576019  11.854481 -13.843772  -2.726775 -0.961709   \n",
       "3    18.460310   80.986633  12.535510   4.461323  -1.088422 -3.448105   \n",
       "4   329.406586  -85.347565 -12.501551 -10.666812   7.269906 -4.111579   \n",
       "5   448.880341 -329.146088   9.004066   3.333533 -20.196829  0.954951   \n",
       "6  -198.556808   79.369865  14.002952 -12.046694  -1.154301 -3.102449   \n",
       "7   245.712753   57.968746  -2.555396  11.414824   9.545465  8.710940   \n",
       "8   179.234955   80.006813   9.048052  17.038286  -3.237707 -1.227132   \n",
       "9   282.087158    3.675821 -12.002511  -3.086825  15.159449  4.704659   \n",
       "10  353.990143 -134.416931  -9.581166 -10.282172   1.100491 -5.847268   \n",
       "11  223.167053   74.883301   4.521372  17.620226   1.786962  4.284071   \n",
       "12 -249.742691   74.846733  10.648761 -14.375828  -3.542506 -0.130786   \n",
       "13  281.480682    4.682706 -11.855466  -2.877347  15.077297  4.930720   \n",
       "14  444.444489 -319.903656   8.116000   2.362660 -19.388748  0.357258   \n",
       "15  334.286560  -94.992393 -11.981943 -10.799854   6.112829 -4.615560   \n",
       "16  235.873962   67.501205   0.827091  14.914251   5.977554  7.238469   \n",
       "17  437.372803 -305.241211   6.531539   0.980509 -18.085041 -0.529154   \n",
       "18  412.798615 -254.536270   1.125578  -3.213344 -13.008220 -3.211875   \n",
       "19 -292.418274   69.071976   6.527407 -15.154613  -5.736513  2.749264   \n",
       "\n",
       "          6         7         8         9   ...        40        41        42  \\\n",
       "0   1.884958  2.988470  1.315346 -0.322381  ... -0.020225 -0.021390 -0.071743   \n",
       "1   1.224845 -4.854540 -2.416663  0.322069  ...  0.219112  0.140238  0.124476   \n",
       "2   4.564286 -0.705619 -0.618216  1.132426  ... -0.112538 -0.137103 -0.194139   \n",
       "3  -1.221292  1.209443 -0.190764 -0.470331  ...  0.079440  0.088578  0.128911   \n",
       "4  -3.340759 -0.556853 -0.601134  1.063960  ...  0.041224  0.061817  0.091474   \n",
       "5   4.150447  0.445239  0.556681 -1.104933  ...  0.175663  0.398657  0.316320   \n",
       "6   4.371997  1.397466  0.311428  0.671902  ... -0.086747 -0.227805 -0.277494   \n",
       "7   3.946837 -1.995286  4.823443 -0.088178  ... -0.104731  0.322220  0.137524   \n",
       "8  -4.543579 -1.697717 -2.292172 -0.372918  ...  0.129752 -0.013523  0.004592   \n",
       "9   1.389500  2.580251 -2.955791 -0.666166  ... -0.058606 -0.301943 -0.224884   \n",
       "10 -2.773515 -2.118089  2.228038  0.347581  ... -0.101246 -0.273911 -0.211363   \n",
       "11 -0.780050 -3.751147  3.129669  2.471686  ...  0.092374 -0.376353 -0.326395   \n",
       "12  4.358665 -1.615888 -1.157188  1.224458  ...  0.033831 -0.066760 -0.182192   \n",
       "13  1.541818  2.521059 -2.875265 -0.722264  ... -0.060132 -0.323399 -0.228947   \n",
       "14  3.925438  0.207482  0.989472 -1.198861  ...  0.183325  0.410858  0.329355   \n",
       "15 -3.388313 -0.949710  0.027705  1.009783  ...  0.013107 -0.029752  0.020048   \n",
       "16  2.113062 -3.362227  5.004535  1.480141  ... -0.265914  0.058147  0.277781   \n",
       "17  3.515548 -0.230968  1.597473 -1.318965  ...  0.172647  0.383615  0.301140   \n",
       "18  1.755691 -1.596406  3.133597 -1.373869  ...  0.065278  0.153741  0.092919   \n",
       "19  3.349158 -3.811907 -2.153863  1.090859  ...  0.197366  0.147807  0.104808   \n",
       "\n",
       "          43        44        45        46        47        48        49  \n",
       "0  -0.039505  0.096331 -0.189826  0.103748 -0.270887 -0.027980  0.042857  \n",
       "1   0.002584 -0.000565 -0.839699  0.847559 -0.978904  0.124428  0.104584  \n",
       "2  -0.075249 -0.002046  0.638711 -0.716888  0.857600 -0.057438 -0.099358  \n",
       "3  -0.029144 -0.012166 -0.278131  0.283018 -0.297457  0.090820  0.063551  \n",
       "4  -0.041295  0.095892 -0.295909  0.235035 -0.193055 -0.160007  0.046820  \n",
       "5  -0.121199  0.544398 -0.288449  0.123479  0.211183 -0.525450 -0.056752  \n",
       "6  -0.023356 -0.011122  0.845029 -0.756432  0.873027 -0.126445 -0.056665  \n",
       "7  -0.174235  0.329969 -0.420958  0.476140  0.327753 -0.408715  0.015923  \n",
       "8   0.006695 -0.073191  0.317261 -0.255257  0.479675  0.050200 -0.097809  \n",
       "9   0.120309 -0.228998  0.319811 -0.260899  0.008118  0.284823 -0.115895  \n",
       "10  0.080602 -0.364513  0.107278 -0.010970 -0.260773  0.326245  0.070923  \n",
       "11 -0.029521  0.192377  0.166494 -0.721989  0.072700 -0.084901 -0.118025  \n",
       "12 -0.003390 -0.173315  0.483685 -0.473681  0.535678  0.037971 -0.070174  \n",
       "13  0.146825 -0.270945  0.311791 -0.246483 -0.020420  0.281387 -0.112146  \n",
       "14 -0.117875  0.544623 -0.314278  0.140884  0.185751 -0.507431 -0.058312  \n",
       "15 -0.013278 -0.011810 -0.245145  0.210259 -0.241513 -0.050294  0.050770  \n",
       "16 -0.545316  0.241334 -0.152964 -0.287297 -0.234479 -0.409746 -0.595569  \n",
       "17 -0.117839  0.516164 -0.224399  0.065051  0.264896 -0.491023 -0.067162  \n",
       "18 -0.071319  0.206418  0.147107 -0.193993  0.405524 -0.229807 -0.073070  \n",
       "19  0.014271 -0.041890 -0.367567  0.403741 -0.335819  0.069623  0.082611  \n",
       "\n",
       "[20 rows x 50 columns]"
      ]
     },
     "execution_count": 33,
     "metadata": {},
     "output_type": "execute_result"
    }
   ],
   "source": [
    "# reduced_df.to_hdf('/data/reduced.hdf5', 'reduced')\n",
    "reduced_df.head(20)"
   ]
  },
  {
   "cell_type": "markdown",
   "metadata": {},
   "source": [
    "### t-SNE + k-Means"
   ]
  },
  {
   "cell_type": "code",
   "execution_count": null,
   "metadata": {},
   "outputs": [],
   "source": [
    "%%time\n",
    "tsne = TSNE().fit_transform(reduced_df.iloc[:, :tsne_n_pcs])"
   ]
  },
  {
   "cell_type": "markdown",
   "metadata": {},
   "source": [
    "We cluster the cells using k-means on the principal components. For example purposes, we set k=35."
   ]
  },
  {
   "cell_type": "code",
   "execution_count": null,
   "metadata": {},
   "outputs": [],
   "source": [
    "%%time\n",
    "# K-means\n",
    "dask_array = dask_cudf.from_cudf(reduced_df, npartitions=n_workers*10)\n",
    "dask_kmeans_output = cu_dask_KMeans(n_clusters=k).fit_predict(dask_array)\n",
    "kmeans = dask_kmeans_output.compute()"
   ]
  },
  {
   "cell_type": "code",
   "execution_count": null,
   "metadata": {},
   "outputs": [],
   "source": [
    "tsne.index = kmeans.index\n",
    "tsne['kmeans'] = kmeans\n",
    "for marker_gene in marker_genes_raw:\n",
    "    print(marker_genes_raw[marker_gene].shape)\n",
    "    tsne[marker_gene + '_raw'] = marker_genes_raw[marker_gene]\n",
    "tsne.shape"
   ]
  },
  {
   "cell_type": "markdown",
   "metadata": {},
   "source": [
    "We visualize the cells using t-SNE and label cells by color according to the k-means clustering."
   ]
  },
  {
   "cell_type": "code",
   "execution_count": null,
   "metadata": {},
   "outputs": [],
   "source": [
    "%%time\n",
    "\n",
    "def show_tsne(df, x, y, cluster_col, title):\n",
    "    tsne_fig = figure(title=title, width=800, output_backend=\"webgl\")\n",
    "    clusters = df[cluster_col].unique().values_host\n",
    "\n",
    "    for cluster in clusters:\n",
    "        cdf = df.query(cluster_col + ' == ' + str(cluster))\n",
    "        if cdf.shape[0] == 0:\n",
    "            continue\n",
    "\n",
    "        x_array = cp.fromDlpack(cdf[0].to_dlpack())\n",
    "        y_array = cp.fromDlpack(cdf[1].to_dlpack())\n",
    "\n",
    "        tsne_fig.circle(x_array.get(),\n",
    "                        y_array.get(),\n",
    "                        size=2,\n",
    "                        color=COLORS[cluster],\n",
    "                        legend = 'Cluster ' + str(cluster))\n",
    "\n",
    "    tsne_fig.legend.location = 'top_right'\n",
    "    tsne_fig.legend.title = 'Clusters'\n",
    "\n",
    "    tsne_fig_handle = show(tsne_fig, notebook_handle=True)\n",
    "    push_notebook(handle=tsne_fig_handle)\n",
    "\n",
    "show_tsne(tsne, 0, 1, 'kmeans', 'kmeans')\n",
    "\n",
    "# sc.pl.tsne(adata, color=[\"kmeans\"])\n",
    "# x_embedded = TSNE().fit_transform(sparse_gpu_array)"
   ]
  },
  {
   "cell_type": "markdown",
   "metadata": {},
   "source": [
    "We label the cells using the `Stmn2` and `Hes1` marker genes, for neuronal and glial cells respectively. These visualizations show us the separation of neuronal and glial cells on the t-SNE plot."
   ]
  },
  {
   "cell_type": "code",
   "execution_count": null,
   "metadata": {},
   "outputs": [],
   "source": [
    "%%time\n",
    "\n",
    "def show_tsne_grad(df, x, y, cluster_col, color_col, title):\n",
    "    tsne_fig = figure(title=title, width=800, output_backend=\"webgl\")\n",
    "    clusters = df[cluster_col].unique().values_host\n",
    "    for cluster in clusters:\n",
    "        cdf = df.query(cluster_col + ' == ' + str(cluster))\n",
    "        if cdf.shape[0] == 0:\n",
    "            continue\n",
    "\n",
    "        x_array = cp.fromDlpack(cdf[0].to_dlpack())\n",
    "        y_array = cp.fromDlpack(cdf[1].to_dlpack())\n",
    "        color_array = cp.fromDlpack(cdf[color_col].to_dlpack())\n",
    "        tsne_fig.circle(x_array.get(),\n",
    "                        y_array.get(),\n",
    "                        size=2,\n",
    "                        color=color_array.get(),\n",
    "                        legend = 'Cluster ' + str(cluster))\n",
    "\n",
    "    tsne_fig.legend.location = 'top_right'\n",
    "    tsne_fig.legend.title = 'Clusters'\n",
    "\n",
    "    tsne_fig_handle = show(tsne_fig, notebook_handle=True)\n",
    "    push_notebook(handle=tsne_fig_handle)\n",
    "\n",
    "show_tsne_grad(tsne, 0, 1, 'kmeans', 'Stmn2_raw', 'Stmn2')\n",
    "show_tsne_grad(tsne, 0, 1, 'kmeans', 'Hes1_raw', 'Stmn2')\n",
    "\n",
    "# sc.pl.tsne(adata, color=[\"Stmn2_raw\"], color_map=\"Blues\", vmax=1, vmin=-0.05)\n",
    "# sc.pl.tsne(adata, color=[\"Hes1_raw\"], color_map=\"Blues\", vmax=1, vmin=-0.05)"
   ]
  },
  {
   "cell_type": "markdown",
   "metadata": {},
   "source": [
    "### UMAP + Graph clustering"
   ]
  },
  {
   "cell_type": "markdown",
   "metadata": {},
   "source": [
    "We can also visualize the cells using the UMAP algorithm in Rapids. Before UMAP, we need to construct a k-nearest neighbors graph in which each cell is connected to its nearest neighbors. This can be done conveniently using rapids functionality already integrated into Scanpy.\n",
    "\n",
    "Note that Scanpy uses an approximation to the nearest neighbors on the CPU while the GPU version performs an exact search. While both methods are known to yield useful results, some differences in the resulting visualization and clusters can be observed."
   ]
  },
  {
   "cell_type": "markdown",
   "metadata": {},
   "source": [
    "The UMAP function from Rapids is also integrated into Scanpy."
   ]
  },
  {
   "cell_type": "code",
   "execution_count": null,
   "metadata": {},
   "outputs": [],
   "source": [
    "%%time\n",
    "local_model = UMAP(n_epochs=1000, min_dist=umap_min_dist, spread=umap_spread)\n",
    "local_model.fit(reduced_df[:350000])"
   ]
  },
  {
   "cell_type": "code",
   "execution_count": null,
   "metadata": {},
   "outputs": [],
   "source": [
    "%%time\n",
    "dist_embeddings = cu_dask_UMAP(local_model).transform(dask_array)\n",
    "X_umap = dist_embeddings.compute()"
   ]
  },
  {
   "cell_type": "markdown",
   "metadata": {},
   "source": [
    "Finally, we use the Louvain algorithm for graph-based clustering, once again using the `rapids` option in Scanpy."
   ]
  },
  {
   "cell_type": "code",
   "execution_count": null,
   "metadata": {},
   "outputs": [],
   "source": [
    "%%time\n",
    "\n",
    "import cugraph as cg\n",
    "import cudf\n",
    "from cuml.neighbors import NearestNeighbors\n",
    "\n",
    "# model = NearestNeighbors(n_neighbors=n_neighbors, output_type=\"input\")\n",
    "# model.fit(sparse_gpu_array)\n",
    "# graph = model.kneighbors_graph(X=sparse_gpu_array, n_neighbors=n_neighbors, mode='connectivity') \n",
    "# # distances, indices = model.kneighbors(reduced_df)\n",
    "\n",
    "nn = cu_dask_NearestNeighbors(client=client, n_neighbors=n_neighbors)\n",
    "model = nn.fit(dask_reduced_df)\n",
    "neighbors = nn.kneighbors(dask_reduced_df)\n",
    "neighbors\n",
    "\n",
    "graph = graph.tocoo()\n",
    "edge_list = cudf.DataFrame({'g_row':graph.row, 'g_col':graph.col})\n",
    "G = cg.Graph()\n",
    "G.from_cudf_edgelist(edge_list, 'g_row', 'g_col')\n",
    "louvain_parts, score = cg.louvain(G)\n",
    "\n",
    "# sc.pp.neighbors(adata, n_neighbors=n_neighbors, n_pcs=knn_n_pcs, method='rapids')\n",
    "# sc.tl.louvain(adata, flavor='rapids')"
   ]
  },
  {
   "cell_type": "markdown",
   "metadata": {},
   "source": [
    "We plot the cells using the UMAP visualization, and using the Louvain clusters as labels."
   ]
  },
  {
   "cell_type": "code",
   "execution_count": null,
   "metadata": {},
   "outputs": [],
   "source": [
    "%%time\n",
    "sc.pl.umap(adata, color=[\"louvain\"])"
   ]
  },
  {
   "cell_type": "markdown",
   "metadata": {},
   "source": [
    "And also visualize the cells labeled by expression of the `Stmn2` and `Hes1` marker genes, for neuronal and glial cells respectively."
   ]
  },
  {
   "cell_type": "code",
   "execution_count": null,
   "metadata": {},
   "outputs": [],
   "source": [
    "%%time\n",
    "sc.pl.umap(adata, color=[\"Stmn2_raw\"], color_map=\"Blues\", vmax=1, vmin=-0.05)\n",
    "sc.pl.umap(adata, color=[\"Hes1_raw\"], color_map=\"Blues\", vmax=1, vmin=-0.05)"
   ]
  },
  {
   "cell_type": "code",
   "execution_count": null,
   "metadata": {},
   "outputs": [],
   "source": [
    "cluster_time = time.time()\n",
    "print(\"Total cluster time : %s\" % (cluster_time-cluster_start))"
   ]
  },
  {
   "cell_type": "markdown",
   "metadata": {},
   "source": [
    "## Create Zoomed View"
   ]
  },
  {
   "cell_type": "markdown",
   "metadata": {},
   "source": [
    "The speedup offered by Rapids makes it easy to interactively re-analyze subsets of cells. To illustrate this, we select glial cells (Hes1+) from the dataset."
   ]
  },
  {
   "cell_type": "code",
   "execution_count": null,
   "metadata": {},
   "outputs": [],
   "source": [
    "reanalysis_start = time.time()"
   ]
  },
  {
   "cell_type": "code",
   "execution_count": null,
   "metadata": {},
   "outputs": [],
   "source": [
    "%%time\n",
    "hes1_cells = marker_genes_raw[\"Hes1_raw\"] > 0.0\n",
    "adata = adata[hes1_cells.get(),:]\n",
    "adata.shape"
   ]
  },
  {
   "cell_type": "markdown",
   "metadata": {},
   "source": [
    "We can repeat the dimension reduction, clustering and visualization using this subset of cells in seconds. \n",
    "\n",
    "Finally, we visualize the selected neuronal cells labeled by their new clusters, and by the expression of `Olig1`, a marker gene for oligodendrocytes."
   ]
  },
  {
   "cell_type": "code",
   "execution_count": null,
   "metadata": {},
   "outputs": [],
   "source": [
    "del dask_array"
   ]
  },
  {
   "cell_type": "code",
   "execution_count": null,
   "metadata": {},
   "outputs": [],
   "source": [
    "%%time\n",
    "\n",
    "chunk_size = int(sparse_gpu_array.shape[0] / (n_workers*10))\n",
    "dask_array = dask.array.from_array(cp.asarray(adata.X), \n",
    "                                   chunks=(chunk_size, -1))\n",
    "dask_array = dask_array.persist()\n",
    "\n",
    "client.rebalance()"
   ]
  },
  {
   "cell_type": "code",
   "execution_count": null,
   "metadata": {},
   "outputs": [],
   "source": [
    "%%time\n",
    "dask_array = pca.fit_transform(dask_array)\n",
    "adata.obsm['X_pca'] = dask_array.compute().get()"
   ]
  },
  {
   "cell_type": "code",
   "execution_count": null,
   "metadata": {},
   "outputs": [],
   "source": [
    "%%time\n",
    "sc.pp.neighbors(adata, n_neighbors=n_neighbors, n_pcs=knn_n_pcs, method='rapids')\n",
    "sc.tl.umap(adata, min_dist=umap_min_dist, spread=umap_spread, method='rapids')\n",
    "sc.tl.louvain(adata, flavor='rapids')\n",
    "\n",
    "sc.pl.umap(adata, color=[\"louvain\"])\n",
    "sc.pl.umap(adata, color=[\"Olig1_raw\"], color_map=\"Blues\", vmax=1, vmin=-0.05)"
   ]
  },
  {
   "cell_type": "code",
   "execution_count": null,
   "metadata": {},
   "outputs": [],
   "source": [
    "reanalysis_time = time.time()\n",
    "print(\"Total reanalysis time : %s\" % (reanalysis_time-reanalysis_start))"
   ]
  },
  {
   "cell_type": "code",
   "execution_count": null,
   "metadata": {},
   "outputs": [],
   "source": [
    "client.close()"
   ]
  },
  {
   "cell_type": "code",
   "execution_count": null,
   "metadata": {},
   "outputs": [],
   "source": [
    "print(\"Full time: %s\" % (time.time() - start))"
   ]
  }
 ],
 "metadata": {
  "kernelspec": {
   "display_name": "Python 3",
   "language": "python",
   "name": "python3"
  },
  "language_info": {
   "codemirror_mode": {
    "name": "ipython",
    "version": 3
   },
   "file_extension": ".py",
   "mimetype": "text/x-python",
   "name": "python",
   "nbconvert_exporter": "python",
   "pygments_lexer": "ipython3",
   "version": "3.8.6"
  }
 },
 "nbformat": 4,
 "nbformat_minor": 4
}

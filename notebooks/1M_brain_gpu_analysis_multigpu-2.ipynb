{
 "cells": [
  {
   "cell_type": "markdown",
   "metadata": {},
   "source": [
    "# RAPIDS & Scanpy Single-Cell RNA-seq Multi-GPU Workflow on 1 Million Cells"
   ]
  },
  {
   "cell_type": "markdown",
   "metadata": {},
   "source": [
    "Copyright (c) 2020, NVIDIA CORPORATION.\n",
    "\n",
    "Licensed under the Apache License, Version 2.0 (the \"License\") you may not use this file except in compliance with the License. You may obtain a copy of the License at\n",
    "\n",
    "    http://www.apache.org/licenses/LICENSE-2.0 \n",
    "\n",
    "Unless required by applicable law or agreed to in writing, software distributed under the License is distributed on an \"AS IS\" BASIS, WITHOUT WARRANTIES OR CONDITIONS OF ANY KIND, either express or implied. See the License for the specific language governing permissions and limitations under the License."
   ]
  },
  {
   "cell_type": "markdown",
   "metadata": {},
   "source": [
    "This notebook demonstrates a single-cell RNA analysis workflow that begins with preprocessing a count matrix of size `(n_gene, n_cell)` and results in a visualization of the clustered cells for further analysis."
   ]
  },
  {
   "cell_type": "markdown",
   "metadata": {},
   "source": [
    "For demonstration purposes, we use a dataset of 1M brain cells with Unified Virtual Memory to oversubscribe GPU memory. We then use dask to scale PCA, K-means clustering, and UMAP across multiple GPUs.\n",
    "\n",
    "See the README for instructions to download this dataset."
   ]
  },
  {
   "cell_type": "markdown",
   "metadata": {},
   "source": [
    "## Import requirements"
   ]
  },
  {
   "cell_type": "code",
   "execution_count": 1,
   "metadata": {},
   "outputs": [],
   "source": [
    "import time\n",
    "import pandas\n",
    "import numpy as np\n",
    "import scanpy as sc\n",
    "import anndata\n",
    "\n",
    "import matplotlib.pyplot as plt\n",
    "import matplotlib.animation as animation\n",
    "\n",
    "import cupy as cp\n",
    "import cupyx as cpx\n",
    "import cudf\n",
    "import math\n",
    "\n",
    "import h5py\n",
    "import scipy\n",
    "\n",
    "import dask\n",
    "import dask_cudf\n",
    "import rmm\n",
    "\n",
    "from numba import cuda\n",
    "\n",
    "from dask_cuda import initialize, LocalCUDACluster\n",
    "from dask import delayed, dataframe\n",
    "from dask.dataframe.utils import make_meta\n",
    "from dask.distributed import Client\n",
    "\n",
    "from cuml.manifold import TSNE, UMAP\n",
    "\n",
    "from cuml.dask.decomposition import PCA\n",
    "from cuml.dask.cluster import KMeans\n",
    "from cuml.dask.manifold import UMAP as distUMAP\n",
    "from cuml.dask.linear_model import LinearRegression as distLR\n",
    "\n",
    "import rapids_scanpy_funcs\n",
    "import utils\n",
    "\n",
    "import warnings\n",
    "warnings.filterwarnings('ignore', 'Expected ')\n",
    "warnings.simplefilter('ignore')"
   ]
  },
  {
   "cell_type": "markdown",
   "metadata": {},
   "source": [
    "We use the RAPIDS memory manager to enable Unified Virtual Memory management, which allows us to oversubscribe the GPU memory"
   ]
  },
  {
   "cell_type": "code",
   "execution_count": 2,
   "metadata": {},
   "outputs": [
    {
     "name": "stdout",
     "output_type": "stream",
     "text": [
      "5\n"
     ]
    },
    {
     "data": {
      "text/html": [
       "<table style=\"border: 2px solid white;\">\n",
       "<tr>\n",
       "<td style=\"vertical-align: top; border: 0px solid white\">\n",
       "<h3 style=\"text-align: left;\">Client</h3>\n",
       "<ul style=\"text-align: left; list-style: none; margin: 0; padding: 0;\">\n",
       "  <li><b>Scheduler: </b>ucx://127.0.0.1:45927</li>\n",
       "  <li><b>Dashboard: </b><a href='http://127.0.0.1:8787/status' target='_blank'>http://127.0.0.1:8787/status</a></li>\n",
       "</ul>\n",
       "</td>\n",
       "<td style=\"vertical-align: top; border: 0px solid white\">\n",
       "<h3 style=\"text-align: left;\">Cluster</h3>\n",
       "<ul style=\"text-align: left; list-style:none; margin: 0; padding: 0;\">\n",
       "  <li><b>Workers: </b>5</li>\n",
       "  <li><b>Cores: </b>5</li>\n",
       "  <li><b>Memory: </b>540.95 GB</li>\n",
       "</ul>\n",
       "</td>\n",
       "</tr>\n",
       "</table>"
      ],
      "text/plain": [
       "<Client: 'ucx://127.0.0.1:45927' processes=5 threads=5, memory=540.95 GB>"
      ]
     },
     "execution_count": 2,
     "metadata": {},
     "output_type": "execute_result"
    }
   ],
   "source": [
    "cluster_start = time.time()\n",
    "\n",
    "enable_tcp_over_ucx = True\n",
    "enable_nvlink = True\n",
    "enable_infiniband = False\n",
    "\n",
    "rmm.reinitialize(managed_memory=True)\n",
    "cp.cuda.set_allocator(rmm.rmm_cupy_allocator)\n",
    "\n",
    "initialize.initialize(create_cuda_context=True,\n",
    "                      enable_tcp_over_ucx=enable_tcp_over_ucx,\n",
    "                      enable_nvlink=enable_nvlink,\n",
    "                      enable_infiniband=enable_infiniband)\n",
    "\n",
    "cluster = LocalCUDACluster(protocol=\"ucx\",\n",
    "                           CUDA_VISIBLE_DEVICES=[3, 4, 5, 6, 7],\n",
    "                           enable_tcp_over_ucx=enable_tcp_over_ucx,\n",
    "                           enable_nvlink=enable_nvlink,\n",
    "                           enable_infiniband=enable_infiniband)\n",
    "\n",
    "client = Client(cluster)\n",
    "n_workers = len(client.scheduler_info()['workers'].keys())\n",
    "print(n_workers)\n",
    "client"
   ]
  },
  {
   "cell_type": "markdown",
   "metadata": {},
   "source": [
    "## Input data"
   ]
  },
  {
   "cell_type": "markdown",
   "metadata": {},
   "source": [
    "In the cell below, we provide the path to the sparse `.h5ad` file containing the count matrix to analyze. Please see the README for instructions on how to download the dataset we use here.\n",
    "\n",
    "To run this notebook using your own dataset, please see the README for instructions to convert your own count matrix into this format. Then, replace the path in the cell below with the path to your generated `.h5ad` file."
   ]
  },
  {
   "cell_type": "code",
   "execution_count": 3,
   "metadata": {},
   "outputs": [],
   "source": [
    "import os, wget\n",
    "# input_file = \"../1M_neurons_filtered_gene_bc_matrices_h5.h5\"\n",
    "# input_file = \"../data/1M_neurons_filtered_gene_bc_matrices_h5.h5\"\n",
    "input_file = \"../data/1M_brain_cells_10X.sparse.h5ad\"\n",
    "\n",
    "if not os.path.exists(input_file):\n",
    "    print('Downloading import file...')\n",
    "    os.makedirs('../data', exist_ok=True)\n",
    "    wget.download(\n",
    "        'https://rapids-single-cell-examples.s3.us-east-2.amazonaws.com/1M_brain_cells_10X.sparse.h5ad',\n",
    "        input_file)"
   ]
  },
  {
   "cell_type": "markdown",
   "metadata": {},
   "source": [
    "## Set parameters"
   ]
  },
  {
   "cell_type": "code",
   "execution_count": 4,
   "metadata": {},
   "outputs": [],
   "source": [
    "# marker genes\n",
    "MITO_GENE_PREFIX = \"mt-\"              # Prefix for mitochondrial genes to regress out\n",
    "markers = [\"Stmn2\", \"Hes1\", \"Olig1\"]  # Marker genes for visualization\n",
    "\n",
    "# filtering cells\n",
    "min_genes_per_cell = 200      # Filter out cells with fewer genes than this expressed \n",
    "max_genes_per_cell = 6000     # Filter out cells with more genes than this expressed \n",
    "min_cells=1                   # Genes containing a number of cells below this value will be filtered\n",
    "\n",
    "# filtering genesinitialize\n",
    "n_top_genes = 4000            # Number of highly variable genes to retain\n",
    "\n",
    "# PCA\n",
    "n_components = 50             # Number of principal components to compute\n",
    "pca_train_ratio = 0.35        # percentage of cells to use for PCA training\n",
    "n_pca_batches = 10\n",
    "\n",
    "# t-SNE\n",
    "tsne_n_pcs = 20               # Number of principal components to use for t-SNE\n",
    "\n",
    "# k-means\n",
    "k = 35                        # Number of clusters for k-means\n",
    "\n",
    "# KNN\n",
    "n_neighbors = 15              # Number of nearest neighbors for KNN graph\n",
    "knn_n_pcs = 50                # Number of principal components to use for finding nearest neighbors\n",
    "\n",
    "# UMAP\n",
    "umap_train_ratio = 0.35\n",
    "umap_min_dist = 0.3\n",
    "umap_spread = 1.0\n",
    "\n",
    "start = time.time()"
   ]
  },
  {
   "cell_type": "markdown",
   "metadata": {},
   "source": [
    "## Load and Prepare Data"
   ]
  },
  {
   "cell_type": "markdown",
   "metadata": {},
   "source": [
    "We load the sparse count matrix from an `h5ad` file using Scanpy. The sparse count matrix will then be placed on the GPU. "
   ]
  },
  {
   "cell_type": "code",
   "execution_count": 5,
   "metadata": {},
   "outputs": [],
   "source": [
    "data_load_start = time.time()"
   ]
  },
  {
   "cell_type": "code",
   "execution_count": 6,
   "metadata": {},
   "outputs": [],
   "source": [
    "# TODO: Compute batches using total Rows and columns\n",
    "BATCHES = n_workers * 3\n",
    "\n",
    "# Read along with filtering\n",
    "with h5py.File(input_file, 'r') as h5f:\n",
    "    indices = h5f['/X/indptr']\n",
    "    data = h5f['/X/data']\n",
    "    orginal_genes = h5f['/var/_index']\n",
    "    \n",
    "    orginal_genes = cudf.Series(orginal_genes, dtype=cp.dtype('object'))\n",
    "\n",
    "    total_cols = orginal_genes.shape[0]\n",
    "    total_rows = indices.shape[0] - 1\n",
    "    batch_rows = math.ceil(total_rows / BATCHES)"
   ]
  },
  {
   "cell_type": "code",
   "execution_count": 7,
   "metadata": {},
   "outputs": [
    {
     "name": "stdout",
     "output_type": "stream",
     "text": [
      "CPU times: user 0 ns, sys: 0 ns, total: 0 ns\n",
      "Wall time: 242 µs\n"
     ]
    }
   ],
   "source": [
    "%%time\n",
    "\n",
    "# TODO: Compute batches using total Rows and columns\n",
    "BATCHES = n_workers * 3\n",
    "    \n",
    "@delayed\n",
    "def read_partition(sample_file, ds_data, ds_indices, ds_indptr, \n",
    "                   batch, rows, total_cols, gene_filter,\n",
    "                   min_genes_per_cell=200, max_genes_per_cell=6000, target_sum=1e4):\n",
    "    \"\"\"\n",
    "    Loads a single partition from HDF5 file.\n",
    "    \"\"\"\n",
    "    batch_start = batch * rows\n",
    "    batch_end = batch_start + rows\n",
    "\n",
    "    with h5py.File(input_file, 'r') as h5f:\n",
    "        # Read all things row pointers for one worker\n",
    "        indptrs = h5f[ds_indptr]\n",
    "        start_ptr = indptrs[batch_start]\n",
    "        end_ptr = indptrs[batch_end]\n",
    "\n",
    "        # Read all things data for one worker\n",
    "        data = h5f[ds_data]\n",
    "        sub_data = cp.array(data[start_ptr:end_ptr])\n",
    "\n",
    "        # Read all things column pointers for one worker\n",
    "        indices = h5f[ds_indices]\n",
    "        sub_indices = cp.array(indices[start_ptr:end_ptr])\n",
    "\n",
    "        # recompute the row pointer for the partial dataset\n",
    "        sub_indptrs  = cp.array(indptrs[batch_start:(batch_end + 1)])\n",
    "        first_ptr = sub_indptrs[0]\n",
    "        sub_indptrs = sub_indptrs - first_ptr\n",
    "\n",
    "    partial_sparse_array = cp.sparse.csr_matrix((sub_data, sub_indices, sub_indptrs),\n",
    "                                                shape=(batch_end - batch_start, total_cols))\n",
    "    # TODO: Add barcode filtering here.\n",
    "    degrees = cp.diff(partial_sparse_array.indptr)\n",
    "    query = ((min_genes_per_cell <= degrees) & (degrees <= max_genes_per_cell))\n",
    "    partial_sparse_array = partial_sparse_array[query]\n",
    "\n",
    "    if not gene_filter:\n",
    "        ret_value = partial_sparse_array.sum(axis=0)\n",
    "    else:\n",
    "        partial_sparse_array = rapids_scanpy_funcs.normalize_total(\n",
    "            partial_sparse_array, target_sum=target_sum)\n",
    "        ret_value = partial_sparse_array[:, gene_filter]\n",
    "\n",
    "    return ret_value"
   ]
  },
  {
   "cell_type": "code",
   "execution_count": 8,
   "metadata": {},
   "outputs": [
    {
     "name": "stdout",
     "output_type": "stream",
     "text": [
      "Computing sum and creating gene count filter...\n",
      "CPU times: user 684 ms, sys: 260 ms, total: 944 ms\n",
      "Wall time: 17 s\n"
     ]
    }
   ],
   "source": [
    "%%time\n",
    "print('Computing sum and creating gene count filter...')\n",
    "dls_sum = []\n",
    "for batch in range(BATCHES):\n",
    "    rows = min(batch_rows, total_rows - (batch_rows * batch))\n",
    "    if batch < 4:\n",
    "        dls_sum.append(\n",
    "            dask.array.from_delayed(\n",
    "                read_partition(input_file, \n",
    "                               '/X/data', '/X/indices', '/X/indptr', \n",
    "                               batch, rows, total_cols, None,\n",
    "                               min_genes_per_cell=min_genes_per_cell,\n",
    "                               max_genes_per_cell=max_genes_per_cell),\n",
    "                dtype=cp.float32,\n",
    "                shape=(rows, total_cols)))\n",
    "\n",
    "sum_gpu_array = dask.array.concatenate(dls_sum)\n",
    "sum_gpu_array = sum_gpu_array.compute()\n",
    "\n",
    "# Filter genes with at-least <<min_cells>> number of cells rec.\n",
    "sum_gpu_array = (sum_gpu_array.sum(axis=0) >= min_cells)"
   ]
  },
  {
   "cell_type": "code",
   "execution_count": 9,
   "metadata": {},
   "outputs": [
    {
     "name": "stdout",
     "output_type": "stream",
     "text": [
      "Loading data into dataframes...\n",
      "Concate sub-arrays...\n",
      "Compute and persist arrays...\n",
      "CPU times: user 556 ms, sys: 44 ms, total: 600 ms\n",
      "Wall time: 590 ms\n"
     ]
    },
    {
     "data": {
      "text/plain": [
       "(348304, 27998)"
      ]
     },
     "execution_count": 9,
     "metadata": {},
     "output_type": "execute_result"
    }
   ],
   "source": [
    "%%time\n",
    "print('Loading data into dataframes...')\n",
    "\n",
    "dls_data = []\n",
    "for batch in range(BATCHES):\n",
    "    rows = min(batch_rows, total_rows - (batch_rows * batch))\n",
    "    if batch < 4:\n",
    "        dls_data.append(\n",
    "        dask.array.from_delayed(\n",
    "            read_partition(input_file, \n",
    "                           '/X/data', '/X/indices', '/X/indptr', \n",
    "                           batch, rows, total_cols, sum_gpu_array.tolist(),\n",
    "                           min_genes_per_cell=min_genes_per_cell,\n",
    "                           max_genes_per_cell=max_genes_per_cell),\n",
    "            dtype=cp.float32,\n",
    "            shape=(rows, total_cols)))\n",
    "\n",
    "print('Concate sub-arrays...')\n",
    "sparse_gpu_array = dask.array.concatenate(dls_data)\n",
    "\n",
    "print('Compute and persist arrays...')\n",
    "type(sparse_gpu_array)\n",
    "sparse_gpu_array = sparse_gpu_array.persist()\n",
    "sparse_gpu_array.shape"
   ]
  },
  {
   "cell_type": "markdown",
   "metadata": {},
   "source": [
    "For this example, we select the first 1 million cells in the dataset. We maintain the index of unique genes in our dataset:"
   ]
  },
  {
   "cell_type": "markdown",
   "metadata": {},
   "source": [
    "Verify the shape of the resulting sparse matrix:"
   ]
  },
  {
   "cell_type": "code",
   "execution_count": 10,
   "metadata": {},
   "outputs": [
    {
     "name": "stdout",
     "output_type": "stream",
     "text": [
      "CPU times: user 4 ms, sys: 0 ns, total: 4 ms\n",
      "Wall time: 525 µs\n"
     ]
    }
   ],
   "source": [
    "%%time\n",
    "sparse_gpu_array = dask.array.log1p(sparse_gpu_array)"
   ]
  },
  {
   "cell_type": "markdown",
   "metadata": {},
   "source": [
    "And the number of non-zero values in the matrix:"
   ]
  },
  {
   "cell_type": "code",
   "execution_count": 11,
   "metadata": {},
   "outputs": [
    {
     "name": "stdout",
     "output_type": "stream",
     "text": [
      "CPU times: user 3.45 s, sys: 8.38 s, total: 11.8 s\n",
      "Wall time: 19.1 s\n"
     ]
    }
   ],
   "source": [
    "%%time\n",
    "sparse_gpu_array = sparse_gpu_array.compute()"
   ]
  },
  {
   "cell_type": "code",
   "execution_count": 12,
   "metadata": {},
   "outputs": [
    {
     "name": "stdout",
     "output_type": "stream",
     "text": [
      "Total data load and format time: 41.81453013420105\n"
     ]
    }
   ],
   "source": [
    "print(\"Total data load and format time: %s\" % (time.time() - data_load_start))"
   ]
  },
  {
   "cell_type": "markdown",
   "metadata": {},
   "source": [
    "## Preprocessing"
   ]
  },
  {
   "cell_type": "code",
   "execution_count": 13,
   "metadata": {},
   "outputs": [],
   "source": [
    "preprocess_start = time.time()"
   ]
  },
  {
   "cell_type": "markdown",
   "metadata": {},
   "source": [
    "### Filter"
   ]
  },
  {
   "cell_type": "code",
   "execution_count": 14,
   "metadata": {},
   "outputs": [
    {
     "data": {
      "text/plain": [
       "(22873,)"
      ]
     },
     "execution_count": 14,
     "metadata": {},
     "output_type": "execute_result"
    }
   ],
   "source": [
    "# Filter out the genes that got removed from the original data\n",
    "genes = orginal_genes[sum_gpu_array]\n",
    "genes.shape"
   ]
  },
  {
   "cell_type": "markdown",
   "metadata": {},
   "source": [
    "We filter the count matrix to remove cells with an extreme number of genes expressed."
   ]
  },
  {
   "cell_type": "code",
   "execution_count": 15,
   "metadata": {},
   "outputs": [
    {
     "name": "stdout",
     "output_type": "stream",
     "text": [
      "CPU times: user 0 ns, sys: 0 ns, total: 0 ns\n",
      "Wall time: 22.2 µs\n"
     ]
    }
   ],
   "source": [
    "%%time\n",
    "# FILTERING IS NOT DONE WHILE READING DATA\n",
    "# sparse_gpu_array = rapids_scanpy_funcs.filter_cells(sparse_gpu_array, \n",
    "#                                                     min_genes=min_genes_per_cell, \n",
    "#                                                     max_genes=max_genes_per_cell)"
   ]
  },
  {
   "cell_type": "markdown",
   "metadata": {},
   "source": [
    "Some genes will now have zero expression in all cells. We filter out such genes."
   ]
  },
  {
   "cell_type": "code",
   "execution_count": 16,
   "metadata": {},
   "outputs": [
    {
     "name": "stdout",
     "output_type": "stream",
     "text": [
      "CPU times: user 0 ns, sys: 0 ns, total: 0 ns\n",
      "Wall time: 5.01 µs\n"
     ]
    }
   ],
   "source": [
    "%%time\n",
    "# FILTERING IS NOT DONE WHILE READING DATA\n",
    "# sparse_gpu_array, genes = rapids_scanpy_funcs.filter_genes(sparse_gpu_array, genes.get(), min_cells=1)"
   ]
  },
  {
   "cell_type": "markdown",
   "metadata": {},
   "source": [
    "The size of our count matrix is now reduced."
   ]
  },
  {
   "cell_type": "code",
   "execution_count": 17,
   "metadata": {},
   "outputs": [
    {
     "name": "stdout",
     "output_type": "stream",
     "text": [
      "CPU times: user 0 ns, sys: 0 ns, total: 0 ns\n",
      "Wall time: 5.48 µs\n"
     ]
    }
   ],
   "source": [
    "%%time\n",
    "# sparse_gpu_array.shape"
   ]
  },
  {
   "cell_type": "markdown",
   "metadata": {},
   "source": [
    "### Normalize"
   ]
  },
  {
   "cell_type": "markdown",
   "metadata": {},
   "source": [
    "We normalize the count matrix so that the total counts in each cell sum to 1e4."
   ]
  },
  {
   "cell_type": "code",
   "execution_count": 18,
   "metadata": {},
   "outputs": [
    {
     "name": "stdout",
     "output_type": "stream",
     "text": [
      "CPU times: user 324 ms, sys: 288 ms, total: 612 ms\n",
      "Wall time: 587 ms\n"
     ]
    },
    {
     "data": {
      "text/plain": [
       "(345421, 22873)"
      ]
     },
     "execution_count": 18,
     "metadata": {},
     "output_type": "execute_result"
    }
   ],
   "source": [
    "%%time\n",
    "# sparse_gpu_array = rapids_scanpy_funcs.normalize_total(sparse_gpu_array, target_sum=1e4)\n",
    "# sparse_gpu_array = sparse_gpu_array.log1p()\n",
    "\n",
    "sparse_gpu_array = sparse_gpu_array.astype(cp.float32)\n",
    "sparse_gpu_array.shape"
   ]
  },
  {
   "cell_type": "markdown",
   "metadata": {},
   "source": [
    "Next, we log transform the count matrix."
   ]
  },
  {
   "cell_type": "code",
   "execution_count": 19,
   "metadata": {},
   "outputs": [
    {
     "name": "stdout",
     "output_type": "stream",
     "text": [
      "CPU times: user 772 ms, sys: 1.05 s, total: 1.82 s\n",
      "Wall time: 1.8 s\n"
     ]
    }
   ],
   "source": [
    "%%time\n",
    "marker_genes_raw = sparse_gpu_array[:, genes[genes.isin(markers)].index.to_arrow().to_pylist()]"
   ]
  },
  {
   "cell_type": "markdown",
   "metadata": {},
   "source": [
    "### Select Most Variable Genes"
   ]
  },
  {
   "cell_type": "markdown",
   "metadata": {},
   "source": [
    "We convert the count matrix to an annData object."
   ]
  },
  {
   "cell_type": "code",
   "execution_count": 20,
   "metadata": {},
   "outputs": [
    {
     "name": "stdout",
     "output_type": "stream",
     "text": [
      "CPU times: user 1.46 s, sys: 2.33 s, total: 3.79 s\n",
      "Wall time: 3.63 s\n"
     ]
    }
   ],
   "source": [
    "%%time\n",
    "adata = anndata.AnnData(sparse_gpu_array.get())\n",
    "adata.var_names = genes.to_pandas()"
   ]
  },
  {
   "cell_type": "markdown",
   "metadata": {},
   "source": [
    "Before filtering the count matrix, we save the 'raw' expression values of the marker genes to use for labeling cells afterward."
   ]
  },
  {
   "cell_type": "markdown",
   "metadata": {},
   "source": [
    "Using scanpy, we filter the count matrix to retain only the most variable genes."
   ]
  },
  {
   "cell_type": "code",
   "execution_count": 21,
   "metadata": {},
   "outputs": [
    {
     "name": "stdout",
     "output_type": "stream",
     "text": [
      "Full time: 56.750170946121216\n",
      "CPU times: user 7.6 s, sys: 1.36 s, total: 8.96 s\n",
      "Wall time: 8.85 s\n"
     ]
    }
   ],
   "source": [
    "%%time\n",
    "sc.pp.highly_variable_genes(adata, n_top_genes=n_top_genes, flavor=\"cell_ranger\")\n",
    "print(\"Full time: %s\" % (time.time() - start))"
   ]
  },
  {
   "cell_type": "markdown",
   "metadata": {},
   "source": [
    "### Regress out confounding factors (number of counts, mitochondrial gene expression)"
   ]
  },
  {
   "cell_type": "markdown",
   "metadata": {},
   "source": [
    "We can now perform regression on the count matrix to correct for confounding factors -  for example purposes, we use the number of counts and the expression of mitochondrial genes (named starting with `mt-`).\n",
    "\n",
    "We now calculate the total counts and the percentage of mitochondrial counts for each cell."
   ]
  },
  {
   "cell_type": "code",
   "execution_count": 22,
   "metadata": {},
   "outputs": [
    {
     "name": "stdout",
     "output_type": "stream",
     "text": [
      "CPU times: user 1.75 s, sys: 8.75 s, total: 10.5 s\n",
      "Wall time: 18.4 s\n"
     ]
    },
    {
     "data": {
      "text/plain": [
       "(345421, 3999)"
      ]
     },
     "execution_count": 22,
     "metadata": {},
     "output_type": "execute_result"
    }
   ],
   "source": [
    "%%time\n",
    "# sparse_gpu_array = cp.sparse.csc_matrix(adata.X)\n",
    "chunk_size = int(sparse_gpu_array.shape[0] / (n_workers*10))\n",
    "\n",
    "dask_array = dask.array.from_array(\n",
    "    sparse_gpu_array, \n",
    "    chunks=(chunk_size, -1),\n",
    "    asarray=False)\n",
    "\n",
    "# Filter highly variable genes\n",
    "dask_array = dask_array[:, adata.var.highly_variable.values]\n",
    "genes = genes[adata.var.highly_variable.values]\n",
    "\n",
    "# TODO: File a bug/patch for transpose not working due to axes validation\n",
    "# dask_array = dask.array.transpose(dask_array, axes=None)\n",
    "sparse_gpu_array = dask_array.compute().tocsc()\n",
    "sparse_gpu_array.shape"
   ]
  },
  {
   "cell_type": "code",
   "execution_count": 23,
   "metadata": {},
   "outputs": [
    {
     "name": "stdout",
     "output_type": "stream",
     "text": [
      "CPU times: user 24 ms, sys: 16 ms, total: 40 ms\n",
      "Wall time: 29.1 ms\n"
     ]
    }
   ],
   "source": [
    "%%time\n",
    "mito_genes = genes.str.startswith(MITO_GENE_PREFIX)\n",
    "\n",
    "n_counts = sparse_gpu_array.sum(axis=1)\n",
    "percent_mito = (sparse_gpu_array[:,mito_genes].sum(axis=1) / n_counts).ravel()\n",
    "\n",
    "n_counts = cp.array(n_counts).ravel()\n",
    "percent_mito = cp.array(percent_mito).ravel()"
   ]
  },
  {
   "cell_type": "markdown",
   "metadata": {},
   "source": [
    "And perform regression:"
   ]
  },
  {
   "cell_type": "code",
   "execution_count": 24,
   "metadata": {},
   "outputs": [
    {
     "name": "stdout",
     "output_type": "stream",
     "text": [
      "CPU times: user 0 ns, sys: 4 ms, total: 4 ms\n",
      "Wall time: 3.84 ms\n"
     ]
    }
   ],
   "source": [
    "%%time\n",
    "dk_sparse_gpu_array = dask.array.from_array(sparse_gpu_array, chunks=chunk_size, asarray=False)\n",
    "\n",
    "regressors = cp.ones((n_counts.shape[0]*3), dtype=cp.float32).reshape((n_counts.shape[0], 3), order=\"F\")\n",
    "regressors[:, 1] = n_counts\n",
    "regressors[:, 2] = percent_mito\n",
    "\n",
    "X = dask.array.from_array(regressors)\n",
    "X = X.persist()\n"
   ]
  },
  {
   "cell_type": "code",
   "execution_count": 55,
   "metadata": {},
   "outputs": [
    {
     "ename": "AttributeError",
     "evalue": "'csc_matrix' object has no attribute 'key'",
     "output_type": "error",
     "traceback": [
      "\u001b[0;31m---------------------------------------------------------------------------\u001b[0m",
      "\u001b[0;31mAttributeError\u001b[0m                            Traceback (most recent call last)",
      "\u001b[0;32m<timed exec>\u001b[0m in \u001b[0;36m<module>\u001b[0;34m\u001b[0m\n",
      "\u001b[0;32m/opt/conda/envs/rapids/lib/python3.8/site-packages/dask/array/core.py\u001b[0m in \u001b[0;36mfrom_delayed\u001b[0;34m(value, shape, dtype, meta, name)\u001b[0m\n\u001b[1;32m   3146\u001b[0m \u001b[0;34m\u001b[0m\u001b[0m\n\u001b[1;32m   3147\u001b[0m     \u001b[0mname\u001b[0m \u001b[0;34m=\u001b[0m \u001b[0mname\u001b[0m \u001b[0;32mor\u001b[0m \u001b[0;34m\"from-value-\"\u001b[0m \u001b[0;34m+\u001b[0m \u001b[0mtokenize\u001b[0m\u001b[0;34m(\u001b[0m\u001b[0mvalue\u001b[0m\u001b[0;34m,\u001b[0m \u001b[0mshape\u001b[0m\u001b[0;34m,\u001b[0m \u001b[0mdtype\u001b[0m\u001b[0;34m,\u001b[0m \u001b[0mmeta\u001b[0m\u001b[0;34m)\u001b[0m\u001b[0;34m\u001b[0m\u001b[0;34m\u001b[0m\u001b[0m\n\u001b[0;32m-> 3148\u001b[0;31m     \u001b[0mdsk\u001b[0m \u001b[0;34m=\u001b[0m \u001b[0;34m{\u001b[0m\u001b[0;34m(\u001b[0m\u001b[0mname\u001b[0m\u001b[0;34m,\u001b[0m\u001b[0;34m)\u001b[0m \u001b[0;34m+\u001b[0m \u001b[0;34m(\u001b[0m\u001b[0;36m0\u001b[0m\u001b[0;34m,\u001b[0m\u001b[0;34m)\u001b[0m \u001b[0;34m*\u001b[0m \u001b[0mlen\u001b[0m\u001b[0;34m(\u001b[0m\u001b[0mshape\u001b[0m\u001b[0;34m)\u001b[0m\u001b[0;34m:\u001b[0m \u001b[0mvalue\u001b[0m\u001b[0;34m.\u001b[0m\u001b[0mkey\u001b[0m\u001b[0;34m}\u001b[0m\u001b[0;34m\u001b[0m\u001b[0;34m\u001b[0m\u001b[0m\n\u001b[0m\u001b[1;32m   3149\u001b[0m     \u001b[0mchunks\u001b[0m \u001b[0;34m=\u001b[0m \u001b[0mtuple\u001b[0m\u001b[0;34m(\u001b[0m\u001b[0;34m(\u001b[0m\u001b[0md\u001b[0m\u001b[0;34m,\u001b[0m\u001b[0;34m)\u001b[0m \u001b[0;32mfor\u001b[0m \u001b[0md\u001b[0m \u001b[0;32min\u001b[0m \u001b[0mshape\u001b[0m\u001b[0;34m)\u001b[0m\u001b[0;34m\u001b[0m\u001b[0;34m\u001b[0m\u001b[0m\n\u001b[1;32m   3150\u001b[0m     \u001b[0;31m# TODO: value._key may not be the name of the layer in value.dask\u001b[0m\u001b[0;34m\u001b[0m\u001b[0;34m\u001b[0m\u001b[0;34m\u001b[0m\u001b[0m\n",
      "\u001b[0;31mAttributeError\u001b[0m: 'csc_matrix' object has no attribute 'key'"
     ]
    }
   ],
   "source": [
    "%%time\n",
    "\n",
    "@delayed\n",
    "def todense(arr, i):\n",
    "    return arr[:, i]\n",
    "\n",
    "# dk_sparse_gpu_array[:, 0].compute()\n",
    "y = dask.array.from_delayed(sparse_gpu_array[:, 0],\n",
    "                            dtype=cp.float32,\n",
    "                            shape=(sparse_gpu_array.shape[0], 1))\n",
    "y.compute()\n",
    "# sparse_gpu_array[:, 0]\n",
    "\n",
    "# ld_delay = []\n",
    "# results = []\n",
    "# for i in range(sparse_gpu_array.shape[1]):\n",
    "#     if i % 500 == 0:\n",
    "#         print(i)\n",
    "\n",
    "# #     y = dask.array.from_delayed(todense(sparse_gpu_array, i),\n",
    "# #                                 dtype=cp.float32,\n",
    "# #                                 shape=(sparse_gpu_array.shape[0], 1))\n",
    "\n",
    "#     y = dask.array.from_delayed(todense(dk_sparse_gpu_array, i),\n",
    "#                                 dtype=cp.float32,\n",
    "#                                 shape=(sparse_gpu_array.shape[0], 1))\n",
    "#     print(y.compute())\n",
    "#     print(X.compute())\n",
    "\n",
    "    # TODO: Following works but does not use all available GPUs\n",
    "#     y = dask.array.from_array(sparse_gpu_array[:, i].todense())\n",
    "    \n",
    "#     lr1 = distLR(client=client, fit_intercept=False).fit(X, y).predict(X)\n",
    "#     ld_delay.append(lr1)\n",
    "\n",
    "# print('Stacking arrays...')\n",
    "# ld_delay_array = dask.array.concatenate(ld_delay, allow_unknown_chunksizes=True)\n",
    "# print('Computing...')\n",
    "# results = ld_delay_array.compute()\n",
    "\n",
    "# results"
   ]
  },
  {
   "cell_type": "code",
   "execution_count": 38,
   "metadata": {},
   "outputs": [
    {
     "name": "stdout",
     "output_type": "stream",
     "text": [
      "CPU times: user 0 ns, sys: 0 ns, total: 0 ns\n",
      "Wall time: 10.3 µs\n"
     ]
    },
    {
     "name": "stderr",
     "output_type": "stream",
     "text": [
      "distributed.nanny - WARNING - Restarting worker\n",
      "distributed.nanny - WARNING - Restarting worker\n",
      "distributed.nanny - WARNING - Restarting worker\n",
      "distributed.nanny - WARNING - Restarting worker\n"
     ]
    }
   ],
   "source": [
    "%%time\n",
    "# X = X.compute()\n",
    "# chunk_size = sparse_gpu_array.shape[1] // (n_workers*2)\n",
    "\n",
    "# from cuml.linear_model import LinearRegression\n",
    "\n",
    "# @delayed\n",
    "# def regress(X, y, i):\n",
    "#     lr = LinearRegression(fit_intercept=False, output_type=\"cupy\")\n",
    "#     lr.fit(X, y, convert_dtype=True)\n",
    "#     return (y.reshape(y.shape[0],) - lr.predict(X).reshape(y.shape[0])).get()\n",
    "\n",
    "#     #TODO: Revisit the following code to distribute each LinearRegression distributed.\n",
    "#     #      Current code fails due to client unavailability. Client cannot be serialized too.\n",
    "#     # lr = distLR(fit_intercept=False)\n",
    "#     # lr.fit(X, y)\n",
    "#     # return y.reshape(y.shape[0],) - lr.predict(X).reshape(y.shape[0])\n",
    "\n",
    "# print('Creating dask arrays for LinearRegression...')\n",
    "# ld_delay = []\n",
    "# for i in range(sparse_gpu_array.shape[1]):\n",
    "#     tmp = time.time()\n",
    "#     if i % 500 == 0:\n",
    "#         print(i)\n",
    "\n",
    "#     y = sparse_gpu_array[:, i].todense()\n",
    "#     result = regress(X, y, i)\n",
    "    \n",
    "#     ld_delay.append(\n",
    "#         dask.array.from_delayed(\n",
    "#             regress(X, y, i),\n",
    "#             dtype=cp.float32, \n",
    "#             shape=(sparse_gpu_array.shape[0], 1)))\n",
    "\n",
    "# print('Stacking arrays...')\n",
    "# ld_delay_array = dask.array.vstack(ld_delay)\n",
    "# print('Computing...')\n",
    "# result = ld_delay_array.compute(client=client)\n",
    "# result\n",
    "# sparse_gpu_array = rapids_scanpy_funcs.regress_out(sparse_gpu_array, n_counts, percent_mito)\n",
    "# sparse_gpu_array.shape"
   ]
  },
  {
   "cell_type": "markdown",
   "metadata": {},
   "source": [
    "### Scale"
   ]
  },
  {
   "cell_type": "markdown",
   "metadata": {},
   "source": [
    "Finally, we scale the count matrix to obtain a z-score and apply a cutoff value of 10 standard deviations, obtaining the preprocessed count matrix."
   ]
  },
  {
   "cell_type": "code",
   "execution_count": 26,
   "metadata": {},
   "outputs": [
    {
     "name": "stdout",
     "output_type": "stream",
     "text": [
      "CPU times: user 624 ms, sys: 648 ms, total: 1.27 s\n",
      "Wall time: 1.26 s\n"
     ]
    }
   ],
   "source": [
    "%%time\n",
    "sparse_gpu_array = rapids_scanpy_funcs.scale(sparse_gpu_array, max_value=10)"
   ]
  },
  {
   "cell_type": "code",
   "execution_count": 27,
   "metadata": {},
   "outputs": [
    {
     "name": "stdout",
     "output_type": "stream",
     "text": [
      "Total Preprocessing time: 110.5862329006195\n"
     ]
    }
   ],
   "source": [
    "preprocess_time = time.time()\n",
    "print(\"Total Preprocessing time: %s\" % (preprocess_time-preprocess_start))"
   ]
  },
  {
   "cell_type": "markdown",
   "metadata": {},
   "source": [
    "## Cluster & Visualize"
   ]
  },
  {
   "cell_type": "markdown",
   "metadata": {},
   "source": [
    "We store the preprocessed count matrix as an AnnData object, which is currently in host memory. We also add the expression levels of the marker genes as observations to the annData object."
   ]
  },
  {
   "cell_type": "code",
   "execution_count": 28,
   "metadata": {},
   "outputs": [
    {
     "name": "stdout",
     "output_type": "stream",
     "text": [
      "CPU times: user 1.4 s, sys: 2.3 s, total: 3.7 s\n",
      "Wall time: 3.56 s\n"
     ]
    },
    {
     "data": {
      "text/plain": [
       "(345421, 3999)"
      ]
     },
     "execution_count": 28,
     "metadata": {},
     "output_type": "execute_result"
    }
   ],
   "source": [
    "%%time\n",
    "# genes = adata.var_names\n",
    "adata = anndata.AnnData(sparse_gpu_array.get())\n",
    "adata.var_names = genes\n",
    "\n",
    "gene_filter_cols = genes[genes.isin(markers)]\n",
    "# marker_genes_raw = zip(gene_filter_cols.index.to_arrow().to_pylist(), gene_filter_cols.values_host, )\n",
    "\n",
    "\n",
    "# for name, data in marker_genes_raw.items():\n",
    "#     adata.obs[name] = data.get()\n",
    "    \n",
    "adata.shape"
   ]
  },
  {
   "cell_type": "code",
   "execution_count": 39,
   "metadata": {},
   "outputs": [
    {
     "ename": "AttributeError",
     "evalue": "'cupy.core.core.ndarray' object has no attribute 'columns'",
     "output_type": "error",
     "traceback": [
      "\u001b[0;31m---------------------------------------------------------------------------\u001b[0m",
      "\u001b[0;31mAttributeError\u001b[0m                            Traceback (most recent call last)",
      "\u001b[0;32m<timed eval>\u001b[0m in \u001b[0;36m<module>\u001b[0;34m\u001b[0m\n",
      "\u001b[0;31mAttributeError\u001b[0m: 'cupy.core.core.ndarray' object has no attribute 'columns'"
     ]
    }
   ],
   "source": [
    "%%time\n",
    "sparse_gpu_array.columns\n",
    "\n",
    "\n",
    "# genes = cudf.Series(adata.var_names)\n",
    "# del sparse_gpu_array"
   ]
  },
  {
   "cell_type": "markdown",
   "metadata": {},
   "source": [
    "### Reduce"
   ]
  },
  {
   "cell_type": "markdown",
   "metadata": {},
   "source": [
    "We use PCA to reduce the dimensionality of the matrix to its top 50 principal components. Here, we use Dask to parallelize across multiple GPUs."
   ]
  },
  {
   "cell_type": "code",
   "execution_count": null,
   "metadata": {},
   "outputs": [],
   "source": [
    "%%time\n",
    "dask_array = dask.array.from_array(\n",
    "    sparse_gpu_array, \n",
    "    chunks=(chunk_size, -1),\n",
    "    asarray=False)\n",
    "\n",
    "dask_array"
   ]
  },
  {
   "cell_type": "markdown",
   "metadata": {},
   "source": [
    "The PCA multi-GPU time includes initial data transfer, which is about 20gb. "
   ]
  },
  {
   "cell_type": "code",
   "execution_count": null,
   "metadata": {},
   "outputs": [],
   "source": [
    "pca = PCA(n_components=50)\n",
    "dask_array = pca.fit_transform(dask_array)\n",
    "adata.obsm[\"X_pca\"] = dask_array.compute().get()"
   ]
  },
  {
   "cell_type": "markdown",
   "metadata": {},
   "source": [
    "### t-SNE + k-Means"
   ]
  },
  {
   "cell_type": "code",
   "execution_count": null,
   "metadata": {},
   "outputs": [],
   "source": [
    "%%time\n",
    "adata.obsm['X_tsne'] = TSNE().fit_transform(adata.obsm[\"X_pca\"][:,:tsne_n_pcs])"
   ]
  },
  {
   "cell_type": "markdown",
   "metadata": {},
   "source": [
    "We cluster the cells using k-means on the principal components. For example purposes, we set k=35."
   ]
  },
  {
   "cell_type": "code",
   "execution_count": null,
   "metadata": {},
   "outputs": [],
   "source": [
    "%%time\n",
    "# K-means\n",
    "dask_kmeans_output = KMeans(n_clusters=k).fit_predict(dask_array)\n",
    "adata.obs['kmeans'] = dask_kmeans_output.compute().get().astype(str)"
   ]
  },
  {
   "cell_type": "markdown",
   "metadata": {},
   "source": [
    "We visualize the cells using t-SNE and label cells by color according to the k-means clustering."
   ]
  },
  {
   "cell_type": "code",
   "execution_count": null,
   "metadata": {},
   "outputs": [],
   "source": [
    "# sc.pl.tsne(adata, color=[\"kmeans\"])\n",
    "x_embedded = TSNE().fit_transform(sparse_gpu_array)\n",
    "x_embedded"
   ]
  },
  {
   "cell_type": "code",
   "execution_count": null,
   "metadata": {},
   "outputs": [],
   "source": [
    "x_embedded.shape"
   ]
  },
  {
   "cell_type": "markdown",
   "metadata": {},
   "source": [
    "We label the cells using the `Stmn2` and `Hes1` marker genes, for neuronal and glial cells respectively. These visualizations show us the separation of neuronal and glial cells on the t-SNE plot."
   ]
  },
  {
   "cell_type": "code",
   "execution_count": null,
   "metadata": {},
   "outputs": [],
   "source": [
    "%%time\n",
    "sc.pl.tsne(adata, color=[\"Stmn2_raw\"], color_map=\"Blues\", vmax=1, vmin=-0.05)\n",
    "sc.pl.tsne(adata, color=[\"Hes1_raw\"], color_map=\"Blues\", vmax=1, vmin=-0.05)"
   ]
  },
  {
   "cell_type": "markdown",
   "metadata": {},
   "source": [
    "### UMAP + Graph clustering"
   ]
  },
  {
   "cell_type": "markdown",
   "metadata": {},
   "source": [
    "We can also visualize the cells using the UMAP algorithm in Rapids. Before UMAP, we need to construct a k-nearest neighbors graph in which each cell is connected to its nearest neighbors. This can be done conveniently using rapids functionality already integrated into Scanpy.\n",
    "\n",
    "Note that Scanpy uses an approximation to the nearest neighbors on the CPU while the GPU version performs an exact search. While both methods are known to yield useful results, some differences in the resulting visualization and clusters can be observed."
   ]
  },
  {
   "cell_type": "code",
   "execution_count": null,
   "metadata": {},
   "outputs": [],
   "source": [
    "%%time\n",
    "sc.pp.neighbors(adata, n_neighbors=n_neighbors, n_pcs=knn_n_pcs, method='rapids')"
   ]
  },
  {
   "cell_type": "markdown",
   "metadata": {},
   "source": [
    "The UMAP function from Rapids is also integrated into Scanpy."
   ]
  },
  {
   "cell_type": "code",
   "execution_count": null,
   "metadata": {},
   "outputs": [],
   "source": [
    "%%time\n",
    "local_model = UMAP(n_epochs=1000, min_dist=umap_min_dist, spread=umap_spread)\n",
    "local_model.fit(adata.obsm[\"X_pca\"][:350000,:])"
   ]
  },
  {
   "cell_type": "code",
   "execution_count": null,
   "metadata": {},
   "outputs": [],
   "source": [
    "%%time\n",
    "dist_embeddings = distUMAP(local_model).transform(dask_array)\n",
    "adata.obsm[\"X_umap\"] = dist_embeddings.compute().get()"
   ]
  },
  {
   "cell_type": "markdown",
   "metadata": {},
   "source": [
    "Finally, we use the Louvain algorithm for graph-based clustering, once again using the `rapids` option in Scanpy."
   ]
  },
  {
   "cell_type": "code",
   "execution_count": null,
   "metadata": {},
   "outputs": [],
   "source": [
    "%%time\n",
    "sc.tl.louvain(adata, flavor='rapids')"
   ]
  },
  {
   "cell_type": "markdown",
   "metadata": {},
   "source": [
    "We plot the cells using the UMAP visualization, and using the Louvain clusters as labels."
   ]
  },
  {
   "cell_type": "code",
   "execution_count": null,
   "metadata": {},
   "outputs": [],
   "source": [
    "%%time\n",
    "sc.pl.umap(adata, color=[\"louvain\"])"
   ]
  },
  {
   "cell_type": "markdown",
   "metadata": {},
   "source": [
    "And also visualize the cells labeled by expression of the `Stmn2` and `Hes1` marker genes, for neuronal and glial cells respectively."
   ]
  },
  {
   "cell_type": "code",
   "execution_count": null,
   "metadata": {},
   "outputs": [],
   "source": [
    "%%time\n",
    "sc.pl.umap(adata, color=[\"Stmn2_raw\"], color_map=\"Blues\", vmax=1, vmin=-0.05)\n",
    "sc.pl.umap(adata, color=[\"Hes1_raw\"], color_map=\"Blues\", vmax=1, vmin=-0.05)"
   ]
  },
  {
   "cell_type": "code",
   "execution_count": null,
   "metadata": {},
   "outputs": [],
   "source": [
    "cluster_time = time.time()\n",
    "print(\"Total cluster time : %s\" % (cluster_time-cluster_start))"
   ]
  },
  {
   "cell_type": "markdown",
   "metadata": {},
   "source": [
    "## Create Zoomed View"
   ]
  },
  {
   "cell_type": "markdown",
   "metadata": {},
   "source": [
    "The speedup offered by Rapids makes it easy to interactively re-analyze subsets of cells. To illustrate this, we select glial cells (Hes1+) from the dataset."
   ]
  },
  {
   "cell_type": "code",
   "execution_count": null,
   "metadata": {},
   "outputs": [],
   "source": [
    "reanalysis_start = time.time()"
   ]
  },
  {
   "cell_type": "code",
   "execution_count": null,
   "metadata": {},
   "outputs": [],
   "source": [
    "%%time\n",
    "hes1_cells = marker_genes_raw[\"Hes1_raw\"] > 0.0\n",
    "adata = adata[hes1_cells.get(),:]\n",
    "adata.shape"
   ]
  },
  {
   "cell_type": "markdown",
   "metadata": {},
   "source": [
    "We can repeat the dimension reduction, clustering and visualization using this subset of cells in seconds. \n",
    "\n",
    "Finally, we visualize the selected neuronal cells labeled by their new clusters, and by the expression of `Olig1`, a marker gene for oligodendrocytes."
   ]
  },
  {
   "cell_type": "code",
   "execution_count": null,
   "metadata": {},
   "outputs": [],
   "source": [
    "del dask_array"
   ]
  },
  {
   "cell_type": "code",
   "execution_count": null,
   "metadata": {},
   "outputs": [],
   "source": [
    "%%time\n",
    "\n",
    "chunk_size = int(sparse_gpu_array.shape[0] / (n_workers*10))\n",
    "dask_array = dask.array.from_array(cp.asarray(adata.X), \n",
    "                                   chunks=(chunk_size, -1))\n",
    "dask_array = dask_array.persist()\n",
    "\n",
    "client.rebalance()"
   ]
  },
  {
   "cell_type": "code",
   "execution_count": null,
   "metadata": {},
   "outputs": [],
   "source": [
    "%%time\n",
    "dask_array = pca.fit_transform(dask_array)\n",
    "adata.obsm['X_pca'] = dask_array.compute().get()"
   ]
  },
  {
   "cell_type": "code",
   "execution_count": null,
   "metadata": {},
   "outputs": [],
   "source": [
    "%%time\n",
    "sc.pp.neighbors(adata, n_neighbors=n_neighbors, n_pcs=knn_n_pcs, method='rapids')\n",
    "sc.tl.umap(adata, min_dist=umap_min_dist, spread=umap_spread, method='rapids')\n",
    "sc.tl.louvain(adata, flavor='rapids')\n",
    "\n",
    "sc.pl.umap(adata, color=[\"louvain\"])\n",
    "sc.pl.umap(adata, color=[\"Olig1_raw\"], color_map=\"Blues\", vmax=1, vmin=-0.05)"
   ]
  },
  {
   "cell_type": "code",
   "execution_count": null,
   "metadata": {},
   "outputs": [],
   "source": [
    "reanalysis_time = time.time()\n",
    "print(\"Total reanalysis time : %s\" % (reanalysis_time-reanalysis_start))"
   ]
  },
  {
   "cell_type": "code",
   "execution_count": null,
   "metadata": {},
   "outputs": [],
   "source": [
    "client.close()"
   ]
  },
  {
   "cell_type": "code",
   "execution_count": null,
   "metadata": {},
   "outputs": [],
   "source": [
    "print(\"Full time: %s\" % (time.time() - start))"
   ]
  }
 ],
 "metadata": {
  "kernelspec": {
   "display_name": "Python 3",
   "language": "python",
   "name": "python3"
  },
  "language_info": {
   "codemirror_mode": {
    "name": "ipython",
    "version": 3
   },
   "file_extension": ".py",
   "mimetype": "text/x-python",
   "name": "python",
   "nbconvert_exporter": "python",
   "pygments_lexer": "ipython3",
   "version": "3.8.6"
  }
 },
 "nbformat": 4,
 "nbformat_minor": 4
}
